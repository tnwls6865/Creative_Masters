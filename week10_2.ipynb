{
  "nbformat": 4,
  "nbformat_minor": 0,
  "metadata": {
    "colab": {
      "provenance": [],
      "toc_visible": true,
      "gpuType": "T4",
      "authorship_tag": "ABX9TyOwcqYF6jOoql8Kn8BTAVDM",
      "include_colab_link": true
    },
    "kernelspec": {
      "name": "python3",
      "display_name": "Python 3"
    },
    "language_info": {
      "name": "python"
    },
    "accelerator": "GPU",
    "gpuClass": "standard"
  },
  "cells": [
    {
      "cell_type": "markdown",
      "metadata": {
        "id": "view-in-github",
        "colab_type": "text"
      },
      "source": [
        "<a href=\"https://colab.research.google.com/github/tnwls6865/Creative_Masters/blob/main/week10_2.ipynb\" target=\"_parent\"><img src=\"https://colab.research.google.com/assets/colab-badge.svg\" alt=\"Open In Colab\"/></a>"
      ]
    },
    {
      "cell_type": "markdown",
      "source": [
        "# Creative Masters"
      ],
      "metadata": {
        "id": "VOlkW-VRqzZQ"
      }
    },
    {
      "cell_type": "markdown",
      "source": [
        "## Colab 환경 세팅"
      ],
      "metadata": {
        "id": "f2XKAxE0q1z3"
      }
    },
    {
      "cell_type": "code",
      "execution_count": 1,
      "metadata": {
        "colab": {
          "base_uri": "https://localhost:8080/"
        },
        "id": "9wrB5iMNphnv",
        "outputId": "6ecc40b1-dd58-4e73-8be7-31d7fa99abcc"
      },
      "outputs": [
        {
          "output_type": "stream",
          "name": "stdout",
          "text": [
            "Colab only includes TensorFlow 2.x; %tensorflow_version has no effect.\n",
            "Note: using Google CoLab\n"
          ]
        }
      ],
      "source": [
        "try:\n",
        "    from google.colab import drive\n",
        "    %tensorflow_version 2.x\n",
        "    COLAB = True\n",
        "    print(\"Note: using Google CoLab\")\n",
        "except:\n",
        "    print(\"Note: not using Google CoLab\")\n",
        "    COLAB = False"
      ]
    },
    {
      "cell_type": "code",
      "source": [
        "# HIDE OUTPUT\n",
        "if COLAB:\n",
        "  !sudo apt-get install -y xvfb ffmpeg x11-utils\n",
        "  !pip install -q 'gym==0.10.11'\n",
        "  !pip install -q 'imageio==2.4.0'\n",
        "  !pip install -q PILLOW\n",
        "  !pip install -q 'pyglet==1.3.2'\n",
        "  !pip install -q pyvirtualdisplay\n",
        "  !pip install -q tf-agents\n",
        "  !pip install -q pygame"
      ],
      "metadata": {
        "colab": {
          "base_uri": "https://localhost:8080/"
        },
        "id": "xeL2lEEsrh5r",
        "outputId": "44350cc4-92ba-4331-9398-4eea6ff5e040"
      },
      "execution_count": 2,
      "outputs": [
        {
          "output_type": "stream",
          "name": "stdout",
          "text": [
            "Reading package lists... Done\n",
            "Building dependency tree       \n",
            "Reading state information... Done\n",
            "ffmpeg is already the newest version (7:4.2.7-0ubuntu0.1).\n",
            "The following additional packages will be installed:\n",
            "  libfontenc1 libxfont2 libxkbfile1 libxtst6 libxxf86dga1 x11-xkb-utils\n",
            "  xfonts-base xfonts-encodings xfonts-utils xserver-common\n",
            "Suggested packages:\n",
            "  mesa-utils\n",
            "The following NEW packages will be installed:\n",
            "  libfontenc1 libxfont2 libxkbfile1 libxtst6 libxxf86dga1 x11-utils\n",
            "  x11-xkb-utils xfonts-base xfonts-encodings xfonts-utils xserver-common xvfb\n",
            "0 upgraded, 12 newly installed, 0 to remove and 24 not upgraded.\n",
            "Need to get 7,920 kB of archives.\n",
            "After this operation, 12.7 MB of additional disk space will be used.\n",
            "Get:1 http://archive.ubuntu.com/ubuntu focal/main amd64 libfontenc1 amd64 1:1.1.4-0ubuntu1 [14.0 kB]\n",
            "Get:2 http://archive.ubuntu.com/ubuntu focal/main amd64 libxfont2 amd64 1:2.0.3-1 [91.7 kB]\n",
            "Get:3 http://archive.ubuntu.com/ubuntu focal/main amd64 libxkbfile1 amd64 1:1.1.0-1 [65.3 kB]\n",
            "Get:4 http://archive.ubuntu.com/ubuntu focal/main amd64 libxtst6 amd64 2:1.2.3-1 [12.8 kB]\n",
            "Get:5 http://archive.ubuntu.com/ubuntu focal/main amd64 libxxf86dga1 amd64 2:1.1.5-0ubuntu1 [12.0 kB]\n",
            "Get:6 http://archive.ubuntu.com/ubuntu focal/main amd64 x11-utils amd64 7.7+5 [199 kB]\n",
            "Get:7 http://archive.ubuntu.com/ubuntu focal/main amd64 x11-xkb-utils amd64 7.7+5 [158 kB]\n",
            "Get:8 http://archive.ubuntu.com/ubuntu focal/main amd64 xfonts-encodings all 1:1.0.5-0ubuntu1 [573 kB]\n",
            "Get:9 http://archive.ubuntu.com/ubuntu focal/main amd64 xfonts-utils amd64 1:7.7+6 [91.5 kB]\n",
            "Get:10 http://archive.ubuntu.com/ubuntu focal/main amd64 xfonts-base all 1:1.0.5 [5,896 kB]\n",
            "Get:11 http://archive.ubuntu.com/ubuntu focal-updates/main amd64 xserver-common all 2:1.20.13-1ubuntu1~20.04.8 [27.2 kB]\n",
            "Get:12 http://archive.ubuntu.com/ubuntu focal-updates/universe amd64 xvfb amd64 2:1.20.13-1ubuntu1~20.04.8 [780 kB]\n",
            "Fetched 7,920 kB in 2s (3,542 kB/s)\n",
            "debconf: unable to initialize frontend: Dialog\n",
            "debconf: (No usable dialog-like program is installed, so the dialog based frontend cannot be used. at /usr/share/perl5/Debconf/FrontEnd/Dialog.pm line 76, <> line 12.)\n",
            "debconf: falling back to frontend: Readline\n",
            "debconf: unable to initialize frontend: Readline\n",
            "debconf: (This frontend requires a controlling tty.)\n",
            "debconf: falling back to frontend: Teletype\n",
            "dpkg-preconfigure: unable to re-open stdin: \n",
            "Selecting previously unselected package libfontenc1:amd64.\n",
            "(Reading database ... 122518 files and directories currently installed.)\n",
            "Preparing to unpack .../00-libfontenc1_1%3a1.1.4-0ubuntu1_amd64.deb ...\n",
            "Unpacking libfontenc1:amd64 (1:1.1.4-0ubuntu1) ...\n",
            "Selecting previously unselected package libxfont2:amd64.\n",
            "Preparing to unpack .../01-libxfont2_1%3a2.0.3-1_amd64.deb ...\n",
            "Unpacking libxfont2:amd64 (1:2.0.3-1) ...\n",
            "Selecting previously unselected package libxkbfile1:amd64.\n",
            "Preparing to unpack .../02-libxkbfile1_1%3a1.1.0-1_amd64.deb ...\n",
            "Unpacking libxkbfile1:amd64 (1:1.1.0-1) ...\n",
            "Selecting previously unselected package libxtst6:amd64.\n",
            "Preparing to unpack .../03-libxtst6_2%3a1.2.3-1_amd64.deb ...\n",
            "Unpacking libxtst6:amd64 (2:1.2.3-1) ...\n",
            "Selecting previously unselected package libxxf86dga1:amd64.\n",
            "Preparing to unpack .../04-libxxf86dga1_2%3a1.1.5-0ubuntu1_amd64.deb ...\n",
            "Unpacking libxxf86dga1:amd64 (2:1.1.5-0ubuntu1) ...\n",
            "Selecting previously unselected package x11-utils.\n",
            "Preparing to unpack .../05-x11-utils_7.7+5_amd64.deb ...\n",
            "Unpacking x11-utils (7.7+5) ...\n",
            "Selecting previously unselected package x11-xkb-utils.\n",
            "Preparing to unpack .../06-x11-xkb-utils_7.7+5_amd64.deb ...\n",
            "Unpacking x11-xkb-utils (7.7+5) ...\n",
            "Selecting previously unselected package xfonts-encodings.\n",
            "Preparing to unpack .../07-xfonts-encodings_1%3a1.0.5-0ubuntu1_all.deb ...\n",
            "Unpacking xfonts-encodings (1:1.0.5-0ubuntu1) ...\n",
            "Selecting previously unselected package xfonts-utils.\n",
            "Preparing to unpack .../08-xfonts-utils_1%3a7.7+6_amd64.deb ...\n",
            "Unpacking xfonts-utils (1:7.7+6) ...\n",
            "Selecting previously unselected package xfonts-base.\n",
            "Preparing to unpack .../09-xfonts-base_1%3a1.0.5_all.deb ...\n",
            "Unpacking xfonts-base (1:1.0.5) ...\n",
            "Selecting previously unselected package xserver-common.\n",
            "Preparing to unpack .../10-xserver-common_2%3a1.20.13-1ubuntu1~20.04.8_all.deb ...\n",
            "Unpacking xserver-common (2:1.20.13-1ubuntu1~20.04.8) ...\n",
            "Selecting previously unselected package xvfb.\n",
            "Preparing to unpack .../11-xvfb_2%3a1.20.13-1ubuntu1~20.04.8_amd64.deb ...\n",
            "Unpacking xvfb (2:1.20.13-1ubuntu1~20.04.8) ...\n",
            "Setting up libxtst6:amd64 (2:1.2.3-1) ...\n",
            "Setting up libxxf86dga1:amd64 (2:1.1.5-0ubuntu1) ...\n",
            "Setting up libfontenc1:amd64 (1:1.1.4-0ubuntu1) ...\n",
            "Setting up xfonts-encodings (1:1.0.5-0ubuntu1) ...\n",
            "Setting up libxkbfile1:amd64 (1:1.1.0-1) ...\n",
            "Setting up libxfont2:amd64 (1:2.0.3-1) ...\n",
            "Setting up x11-xkb-utils (7.7+5) ...\n",
            "Setting up xfonts-utils (1:7.7+6) ...\n",
            "Setting up xfonts-base (1:1.0.5) ...\n",
            "Setting up x11-utils (7.7+5) ...\n",
            "Setting up xserver-common (2:1.20.13-1ubuntu1~20.04.8) ...\n",
            "Setting up xvfb (2:1.20.13-1ubuntu1~20.04.8) ...\n",
            "Processing triggers for man-db (2.9.1-1) ...\n",
            "Processing triggers for fontconfig (2.13.1-2ubuntu3) ...\n",
            "Processing triggers for libc-bin (2.31-0ubuntu9.9) ...\n",
            "\u001b[2K     \u001b[90m━━━━━━━━━━━━━━━━━━━━━━━━━━━━━━━━━━━━━━━━\u001b[0m \u001b[32m1.5/1.5 MB\u001b[0m \u001b[31m21.7 MB/s\u001b[0m eta \u001b[36m0:00:00\u001b[0m\n",
            "\u001b[?25h  Preparing metadata (setup.py) ... \u001b[?25l\u001b[?25hdone\n",
            "\u001b[2K     \u001b[90m━━━━━━━━━━━━━━━━━━━━━━━━━━━━━━━━━━━━━━\u001b[0m \u001b[32m841.0/841.0 kB\u001b[0m \u001b[31m64.1 MB/s\u001b[0m eta \u001b[36m0:00:00\u001b[0m\n",
            "\u001b[?25h  Building wheel for gym (setup.py) ... \u001b[?25l\u001b[?25hdone\n",
            "\u001b[2K     \u001b[90m━━━━━━━━━━━━━━━━━━━━━━━━━━━━━━━━━━━━━━━━\u001b[0m \u001b[32m3.3/3.3 MB\u001b[0m \u001b[31m38.3 MB/s\u001b[0m eta \u001b[36m0:00:00\u001b[0m\n",
            "\u001b[?25h  Preparing metadata (setup.py) ... \u001b[?25l\u001b[?25hdone\n",
            "  Building wheel for imageio (setup.py) ... \u001b[?25l\u001b[?25hdone\n",
            "\u001b[31mERROR: pip's dependency resolver does not currently take into account all the packages that are installed. This behaviour is the source of the following dependency conflicts.\n",
            "moviepy 1.0.3 requires imageio<3.0,>=2.5; python_version >= \"3.4\", but you have imageio 2.4.0 which is incompatible.\n",
            "scikit-image 0.19.3 requires imageio>=2.4.1, but you have imageio 2.4.0 which is incompatible.\u001b[0m\u001b[31m\n",
            "\u001b[2K     \u001b[90m━━━━━━━━━━━━━━━━━━━━━━━━━━━━━━━━━━━━━━━━\u001b[0m \u001b[32m1.0/1.0 MB\u001b[0m \u001b[31m15.9 MB/s\u001b[0m eta \u001b[36m0:00:00\u001b[0m\n",
            "\u001b[2K     \u001b[90m━━━━━━━━━━━━━━━━━━━━━━━━━━━━━━━━━━━━━━━━\u001b[0m \u001b[32m1.4/1.4 MB\u001b[0m \u001b[31m19.4 MB/s\u001b[0m eta \u001b[36m0:00:00\u001b[0m\n",
            "\u001b[2K     \u001b[90m━━━━━━━━━━━━━━━━━━━━━━━━━━━━━━━━━━━━━━\u001b[0m \u001b[32m624.4/624.4 kB\u001b[0m \u001b[31m55.6 MB/s\u001b[0m eta \u001b[36m0:00:00\u001b[0m\n",
            "\u001b[?25h  Installing build dependencies ... \u001b[?25l\u001b[?25hdone\n",
            "  Getting requirements to build wheel ... \u001b[?25l\u001b[?25hdone\n",
            "  Preparing metadata (pyproject.toml) ... \u001b[?25l\u001b[?25hdone\n",
            "\u001b[2K     \u001b[90m━━━━━━━━━━━━━━━━━━━━━━━━━━━━━━━━━━━━━━━━\u001b[0m \u001b[32m13.7/13.7 MB\u001b[0m \u001b[31m88.0 MB/s\u001b[0m eta \u001b[36m0:00:00\u001b[0m\n",
            "\u001b[?25h  Building wheel for gym (pyproject.toml) ... \u001b[?25l\u001b[?25hdone\n"
          ]
        }
      ]
    },
    {
      "cell_type": "markdown",
      "source": [
        "Q-Learning에서는 Q-table에 환경이 취할 수 있는 모든 가능한 상태에 대한 항목이 포함되어 있어야 합니다. 기존의 Q-러닝은 환경에 소수의 개별 상태 요소만 포함된 경우 좋은 학습 알고리즘이 될 수 있습니다. 그러나 상태 공간이 크면 Q-table이 엄청나게 커질 수 있습니다.\n",
        "\n",
        "대규모 state 공간에 대한 policy 생성은 DQN(Deep Q-Learning Networks)이 일반적으로 처리할 수 있는 작업입니다. 신경망은 이러한 상태를 일반화하고 공통점을 학습할 수 있습니다. 테이블과 달리 신경망은 상태와 작업의 모든 조합을 나타내는 프로그램이 필요하지 않습니다. DQN은 각 가능한 행동에 대한 예상 보상을 반환함으로써 상태를 받아들이고 action을 제안하는 방식으로 구성되어 있습니다. 다음 그림은 DQN 구조와 상태와 Action 간의 매핑을 보여줍니다.\n",
        "\n",
        "**Figure 12.DQL: Deep Q-Learning (DQL)*\n",
        "![Deep Q-Learning](https://raw.githubusercontent.com/jeffheaton/t81_558_deep_learning/master/images/deepqlearning.png \"Reinforcement Learning\")"
      ],
      "metadata": {
        "id": "R7Jlox3Uq64A"
      }
    },
    {
      "cell_type": "code",
      "source": [
        "import base64\n",
        "import imageio\n",
        "import IPython\n",
        "import matplotlib\n",
        "import matplotlib.pyplot as plt\n",
        "import numpy as np\n",
        "import PIL.Image\n",
        "import pyvirtualdisplay\n",
        "\n",
        "import tensorflow as tf\n",
        "\n",
        "from tf_agents.agents.dqn import dqn_agent\n",
        "from tf_agents.drivers import dynamic_step_driver\n",
        "from tf_agents.environments import suite_gym\n",
        "from tf_agents.environments import tf_py_environment\n",
        "from tf_agents.eval import metric_utils\n",
        "from tf_agents.metrics import tf_metrics\n",
        "from tf_agents.networks import q_network\n",
        "from tf_agents.policies import random_tf_policy\n",
        "from tf_agents.replay_buffers import tf_uniform_replay_buffer\n",
        "from tf_agents.trajectories import trajectory\n",
        "from tf_agents.utils import common"
      ],
      "metadata": {
        "id": "tQcHltYhrj6p"
      },
      "execution_count": 3,
      "outputs": []
    },
    {
      "cell_type": "markdown",
      "source": [
        "이 예제를 Colab에서 실행할 수 있도록 임베디드 비디오를 출력할 가상 디스플레이를 사용합니다. 노트북 외부에서 이 코드를 실행하는 경우 가상 디스플레이를 생략하고 window에 직접 애니메이션을 적용할 수 있습니다."
      ],
      "metadata": {
        "id": "dhZ849C3rn-G"
      }
    },
    {
      "cell_type": "code",
      "source": [
        "# Set up a virtual display for rendering OpenAI gym environments.\n",
        "display = pyvirtualdisplay.Display(visible=0, size=(1400, 900)).start()"
      ],
      "metadata": {
        "id": "D4LirN6dq9B6"
      },
      "execution_count": 4,
      "outputs": []
    },
    {
      "cell_type": "markdown",
      "source": [
        "## Hyper-parameter setting"
      ],
      "metadata": {
        "id": "r9ivGTqusFoe"
      }
    },
    {
      "cell_type": "code",
      "source": [
        "# How long should training run?\n",
        "num_iterations = 20000\n",
        "# How many initial random steps, before training start, to\n",
        "# collect initial data.\n",
        "initial_collect_steps = 1000\n",
        "# How many steps should we run each iteration to collect\n",
        "# data from.\n",
        "collect_steps_per_iteration = 1\n",
        "# How much data should we store for training examples.\n",
        "replay_buffer_max_length = 100000\n",
        "\n",
        "batch_size = 64\n",
        "learning_rate = 1e-3\n",
        "# How often should the program provide an update.\n",
        "log_interval = 200\n",
        "\n",
        "# How many episodes should the program use for each evaluation.\n",
        "num_eval_episodes = 10\n",
        "# How often should an evaluation occur.\n",
        "eval_interval = 1000"
      ],
      "metadata": {
        "id": "2DD_5Jj9sBy-"
      },
      "execution_count": 5,
      "outputs": []
    },
    {
      "cell_type": "markdown",
      "source": [
        "## Environment"
      ],
      "metadata": {
        "id": "-wncnF5psKMj"
      }
    },
    {
      "cell_type": "markdown",
      "source": [
        "이번 실습은 CartPole로 진행하겠습니다.\n",
        "\n",
        "마찰이 없는 트랙에 카트 (cart)가 하나 있습니다. 카트에는 막대기 (pole)가 하나 연결되어 있고, 이 연결부는 조작되지 않습니다. 대신, 카트에 +1 또는 -1의 힘을 인가함으로써 조절됩니다. 막대기가 세워진 상태로 게임이 시작되며, 목표는 넘어지지 않도록 하는 것입니다. 막대기가 제대로 서있으면 매 시간 스텝마다 +1의 보상 이 주어집니다.\n",
        "\n",
        "에피소드가 종료되는 조건은 아래와 같습니다.\n",
        "\n",
        "- 막대기가 수직으로부터 12도 이상 기울어짐 (-12도 ~ 12도).\n",
        "- 카트가 중심으로부터 2.4 이상 벗어남 (-2.4 ~ 2.4).\n",
        "- 시간 스텝이 200보다 커짐 (CartPole-v1의 경우 500)."
      ],
      "metadata": {
        "id": "1krj_cPVslAD"
      }
    },
    {
      "cell_type": "code",
      "source": [
        "env_name = 'CartPole-v0'\n",
        "env = suite_gym.load(env_name)"
      ],
      "metadata": {
        "id": "gXp1ZBTEsIXC"
      },
      "execution_count": 6,
      "outputs": []
    },
    {
      "cell_type": "code",
      "source": [
        "env.reset()\n",
        "PIL.Image.fromarray(env.render())"
      ],
      "metadata": {
        "colab": {
          "base_uri": "https://localhost:8080/",
          "height": 417
        },
        "id": "A729jvvGsMY6",
        "outputId": "1e8c6451-90e4-4a2c-ddb6-c1aabad1ec20"
      },
      "execution_count": 7,
      "outputs": [
        {
          "output_type": "execute_result",
          "data": {
            "text/plain": [
              "<PIL.Image.Image image mode=RGB size=600x400 at 0x7FF04F7C45B0>"
            ],
            "image/png": "[encoded data removed]"
          },
          "metadata": {},
          "execution_count": 7
        }
      ]
    },
    {
      "cell_type": "markdown",
      "source": [
        "In the Cartpole environment:\n",
        "\n",
        "-   `observation` is an array of 4 floats: \n",
        "    -   the position and velocity of the cart\n",
        "    -   the angular position and velocity of the pole \n",
        "-   `reward` is a scalar float value\n",
        "-   `action` is a scalar integer with only two possible values:\n",
        "    -   `0` — \"move left\"\n",
        "    -   `1` — \"move right\""
      ],
      "metadata": {
        "id": "gjvHPQRYse71"
      }
    },
    {
      "cell_type": "code",
      "source": [
        "time_step = env.reset()\n",
        "print('Time step:')\n",
        "print(time_step)\n",
        "\n",
        "action = np.array(1, dtype=np.int32)\n",
        "\n",
        "next_time_step = env.step(action)\n",
        "print('Next time step:')\n",
        "print(next_time_step)"
      ],
      "metadata": {
        "colab": {
          "base_uri": "https://localhost:8080/"
        },
        "id": "bbs_097rsMqX",
        "outputId": "87bf53c2-8f1d-4ab7-814f-dbea54e29333"
      },
      "execution_count": 8,
      "outputs": [
        {
          "output_type": "stream",
          "name": "stdout",
          "text": [
            "Time step:\n",
            "TimeStep(\n",
            "{'discount': array(1., dtype=float32),\n",
            " 'observation': array([-0.00011699,  0.03602552,  0.01218398,  0.04601482], dtype=float32),\n",
            " 'reward': array(0., dtype=float32),\n",
            " 'step_type': array(0, dtype=int32)})\n",
            "Next time step:\n",
            "TimeStep(\n",
            "{'discount': array(1., dtype=float32),\n",
            " 'observation': array([ 0.00060352,  0.23097067,  0.01310428, -0.24279918], dtype=float32),\n",
            " 'reward': array(1., dtype=float32),\n",
            " 'step_type': array(1, dtype=int32)})\n"
          ]
        }
      ]
    },
    {
      "cell_type": "markdown",
      "source": [
        "실제 학습시킬 환경과 이를 실험해볼 환경을 따로 구축하겠습니다."
      ],
      "metadata": {
        "id": "NokfYZSqsyr-"
      }
    },
    {
      "cell_type": "code",
      "source": [
        "train_py_env = suite_gym.load(env_name)\n",
        "eval_py_env = suite_gym.load(env_name)"
      ],
      "metadata": {
        "id": "I3XBTylfsvo8"
      },
      "execution_count": 9,
      "outputs": []
    },
    {
      "cell_type": "code",
      "source": [
        "train_env = tf_py_environment.TFPyEnvironment(train_py_env)\n",
        "eval_env = tf_py_environment.TFPyEnvironment(eval_py_env)"
      ],
      "metadata": {
        "id": "_CRjPub5sxfi"
      },
      "execution_count": 10,
      "outputs": []
    },
    {
      "cell_type": "markdown",
      "source": [
        "## DQN"
      ],
      "metadata": {
        "id": "vjQQQ6Tss4jv"
      }
    },
    {
      "cell_type": "markdown",
      "source": [
        "TF-Agents는 다양한 에이전트의 표준 구현을 제공합니다. 본 실습에서는 기본적으로 많이 사용되는 DQN을 활용하도록 하겠습니다."
      ],
      "metadata": {
        "id": "zFhiI0P2s9nZ"
      }
    },
    {
      "cell_type": "markdown",
      "source": [
        "- [DQN](https://storage.googleapis.com/deepmind-media/dqn/DQNNaturePaper.pdf) -> 이번 실습에서 활용\n",
        "- [DDPG](https://arxiv.org/pdf/1509.02971.pdf)\n",
        "- [TD3](https://arxiv.org/pdf/1802.09477.pdf)\n",
        "- [PPO](https://arxiv.org/abs/1707.06347)\n",
        "- [SAC](https://arxiv.org/abs/1801.01290)"
      ],
      "metadata": {
        "id": "KVvMUwSvtDGV"
      }
    },
    {
      "cell_type": "markdown",
      "source": [
        "Discrete action space가 있는 환경에서만 DQN 에이전트를 사용할 수 있습니다. DQN은 환경에서 주어진 상태에서 모든 작업에 대한 Q-값(예상 수익)을 예측하는 방법을 학습하는 신경망 모델인 Q-Network를 사용합니다.\n",
        "\n",
        "다음 코드는 **tf_agents.networks.q_network**를 사용하여 QNetwork를 만들고 **observation_spec**, **action_spec** 및 모델의 숨겨진 레이어의 수와 크기를 설명하는 튜플을 전달합니다."
      ],
      "metadata": {
        "id": "HyXM936JtGM0"
      }
    },
    {
      "cell_type": "code",
      "source": [
        "fc_layer_params = (100,)\n",
        "\n",
        "q_net = q_network.QNetwork(\n",
        "    train_env.observation_spec(),\n",
        "    train_env.action_spec(),\n",
        "    fc_layer_params=fc_layer_params)"
      ],
      "metadata": {
        "id": "PANvCQrhs2PV"
      },
      "execution_count": 11,
      "outputs": []
    },
    {
      "cell_type": "code",
      "source": [
        "optimizer = tf.compat.v1.train.AdamOptimizer(learning_rate=learning_rate)\n",
        "\n",
        "train_step_counter = tf.Variable(0)\n",
        "\n",
        "agent = dqn_agent.DqnAgent(\n",
        "    train_env.time_step_spec(),\n",
        "    train_env.action_spec(),\n",
        "    q_network=q_net,\n",
        "    optimizer=optimizer,\n",
        "    td_errors_loss_fn=common.element_wise_squared_loss,\n",
        "    train_step_counter=train_step_counter)\n",
        "\n",
        "agent.initialize()"
      ],
      "metadata": {
        "id": "GGmzFIiXtS9x"
      },
      "execution_count": 12,
      "outputs": []
    },
    {
      "cell_type": "markdown",
      "source": [
        "## Policies\n",
        "\n",
        "Policy는 agent가 환경에서 작동하는 방식을 정의합니다. 일반적으로 강화 학습은 policy가 원하는 결과를 생성할 때까지 기본 모델을 학습하는 것을 목표로 합니다.\n",
        "\n",
        "Agents contain two policies: \n",
        "\n",
        "*  **agent.policy** -  The algorithm uses this main policy for evaluation and deployment.\n",
        "* **agent.collect_policy** - The algorithm this secondary policy for data collection.\n"
      ],
      "metadata": {
        "id": "vmyXL5yQtZX8"
      }
    },
    {
      "cell_type": "code",
      "source": [
        "eval_policy = agent.policy\n",
        "collect_policy = agent.collect_policy"
      ],
      "metadata": {
        "id": "1PAf1D8YtVi8"
      },
      "execution_count": 13,
      "outputs": []
    },
    {
      "cell_type": "code",
      "source": [
        "random_policy = random_tf_policy.RandomTFPolicy(train_env.time_step_spec(),\n",
        "                                                train_env.action_spec())"
      ],
      "metadata": {
        "id": "FpJP62ZytX4q"
      },
      "execution_count": 14,
      "outputs": []
    },
    {
      "cell_type": "code",
      "source": [
        "example_environment = tf_py_environment.TFPyEnvironment(\n",
        "    suite_gym.load('CartPole-v0'))\n",
        "time_step = example_environment.reset()\n",
        "random_policy.action(time_step)"
      ],
      "metadata": {
        "colab": {
          "base_uri": "https://localhost:8080/"
        },
        "id": "rgQPbG01tYnX",
        "outputId": "ce12134d-6319-4fd4-e49a-c7583e1c7730"
      },
      "execution_count": 15,
      "outputs": [
        {
          "output_type": "execute_result",
          "data": {
            "text/plain": [
              "PolicyStep(action=<tf.Tensor: shape=(1,), dtype=int64, numpy=array([1])>, state=(), info=())"
            ]
          },
          "metadata": {},
          "execution_count": 15
        }
      ]
    },
    {
      "cell_type": "markdown",
      "source": [
        "## Metrcis and Evaluation"
      ],
      "metadata": {
        "id": "yq6uyLVbtrK7"
      }
    },
    {
      "cell_type": "markdown",
      "source": [
        "Policy를 평가하는 데 사용되는 가장 일반적인 지표는 average return입니다. Return은 에피소드에 대한 environment에서 policy를 실행하는 동안 얻은 reward의 합계입니다. 여러 에피소드가 실행되어 평균 reward을 산출합니다. 다음 함수는 주어진 policy, environment 및 에피소드 수에 따라 평균 reward을 계산합니다."
      ],
      "metadata": {
        "id": "KeGtFXTKtwwt"
      }
    },
    {
      "cell_type": "code",
      "source": [
        "def compute_avg_return(environment, policy, num_episodes=10):\n",
        "\n",
        "    total_return = 0.0\n",
        "    for _ in range(num_episodes):\n",
        "\n",
        "        time_step = environment.reset()\n",
        "        episode_return = 0.0\n",
        "\n",
        "        while not time_step.is_last():\n",
        "            action_step = policy.action(time_step)\n",
        "            time_step = environment.step(action_step.action)\n",
        "            episode_return += time_step.reward\n",
        "        total_return += episode_return\n",
        "\n",
        "    avg_return = total_return / num_episodes\n",
        "    return avg_return.numpy()[0]"
      ],
      "metadata": {
        "id": "lipVNC1Bto5C"
      },
      "execution_count": 16,
      "outputs": []
    },
    {
      "cell_type": "code",
      "source": [
        "compute_avg_return(eval_env, random_policy, num_eval_episodes)"
      ],
      "metadata": {
        "colab": {
          "base_uri": "https://localhost:8080/"
        },
        "id": "xtC3GQnItt4V",
        "outputId": "79049c68-5a01-4f73-ffb9-a5a33bcc96a5"
      },
      "execution_count": 17,
      "outputs": [
        {
          "output_type": "execute_result",
          "data": {
            "text/plain": [
              "20.5"
            ]
          },
          "metadata": {},
          "execution_count": 17
        }
      ]
    },
    {
      "cell_type": "markdown",
      "source": [
        "## Replay Buffer & Data Collection"
      ],
      "metadata": {
        "id": "WKfPXp07uFAs"
      }
    },
    {
      "cell_type": "markdown",
      "source": [
        "* Replay Buffer는 수집된 데이터를 추적하는 함수입니다.\n",
        "* 이를 위해 데이터를 수집하는 코드도 작성합니다."
      ],
      "metadata": {
        "id": "KGKPYqopuHEm"
      }
    },
    {
      "cell_type": "code",
      "source": [
        "replay_buffer = tf_uniform_replay_buffer.TFUniformReplayBuffer(\n",
        "    data_spec=agent.collect_data_spec,\n",
        "    batch_size=train_env.batch_size,\n",
        "    max_length=replay_buffer_max_length)"
      ],
      "metadata": {
        "id": "w-C9FRV8uBkz"
      },
      "execution_count": 18,
      "outputs": []
    },
    {
      "cell_type": "code",
      "source": [
        "agent.collect_data_spec"
      ],
      "metadata": {
        "colab": {
          "base_uri": "https://localhost:8080/"
        },
        "id": "7XOftvmKuD8V",
        "outputId": "83ab5a22-c595-467c-ea99-5c7ba24a5e9c"
      },
      "execution_count": 19,
      "outputs": [
        {
          "output_type": "execute_result",
          "data": {
            "text/plain": [
              "Trajectory(\n",
              "{'action': BoundedTensorSpec(shape=(), dtype=tf.int64, name='action', minimum=array(0), maximum=array(1)),\n",
              " 'discount': BoundedTensorSpec(shape=(), dtype=tf.float32, name='discount', minimum=array(0., dtype=float32), maximum=array(1., dtype=float32)),\n",
              " 'next_step_type': TensorSpec(shape=(), dtype=tf.int32, name='step_type'),\n",
              " 'observation': BoundedTensorSpec(shape=(4,), dtype=tf.float32, name='observation', minimum=array([-4.8000002e+00, -3.4028235e+38, -4.1887903e-01, -3.4028235e+38],\n",
              "      dtype=float32), maximum=array([4.8000002e+00, 3.4028235e+38, 4.1887903e-01, 3.4028235e+38],\n",
              "      dtype=float32)),\n",
              " 'policy_info': (),\n",
              " 'reward': TensorSpec(shape=(), dtype=tf.float32, name='reward'),\n",
              " 'step_type': TensorSpec(shape=(), dtype=tf.int32, name='step_type')})"
            ]
          },
          "metadata": {},
          "execution_count": 19
        }
      ]
    },
    {
      "cell_type": "code",
      "source": [
        "def collect_step(environment, policy, buffer):\n",
        "    time_step = environment.current_time_step()\n",
        "    action_step = policy.action(time_step)\n",
        "    next_time_step = environment.step(action_step.action)\n",
        "    traj = trajectory.from_transition(time_step, action_step, \\\n",
        "                                      next_time_step)\n",
        "\n",
        "    # Add trajectory to the replay buffer\n",
        "    buffer.add_batch(traj)\n",
        "\n",
        "\n",
        "def collect_data(env, policy, buffer, steps):\n",
        "    for _ in range(steps):\n",
        "        collect_step(env, policy, buffer)\n",
        "\n",
        "\n",
        "collect_data(train_env, random_policy, replay_buffer, steps=100)"
      ],
      "metadata": {
        "id": "sr-6ijYNuEzF"
      },
      "execution_count": 20,
      "outputs": []
    },
    {
      "cell_type": "code",
      "source": [
        "# Dataset generates trajectories with shape [Bx2x...]\n",
        "dataset = replay_buffer.as_dataset(\n",
        "    num_parallel_calls=3, \n",
        "    sample_batch_size=batch_size, \n",
        "    num_steps=2).prefetch(3)\n",
        "\n",
        "dataset"
      ],
      "metadata": {
        "colab": {
          "base_uri": "https://localhost:8080/"
        },
        "id": "XKaIZ-4juRD9",
        "outputId": "a82297ea-fa62-4589-fd89-f2ac5ad0ada9"
      },
      "execution_count": 21,
      "outputs": [
        {
          "output_type": "stream",
          "name": "stderr",
          "text": [
            "WARNING:tensorflow:From /usr/local/lib/python3.10/dist-packages/tf_agents/replay_buffers/tf_uniform_replay_buffer.py:342: CounterV2 (from tensorflow.python.data.experimental.ops.counter) is deprecated and will be removed in a future version.\n",
            "Instructions for updating:\n",
            "Use `tf.data.Dataset.counter(...)` instead.\n",
            "WARNING:tensorflow:From /usr/local/lib/python3.10/dist-packages/tensorflow/python/autograph/impl/api.py:377: ReplayBuffer.get_next (from tf_agents.replay_buffers.replay_buffer) is deprecated and will be removed in a future version.\n",
            "Instructions for updating:\n",
            "Use `as_dataset(..., single_deterministic_pass=False) instead.\n"
          ]
        },
        {
          "output_type": "execute_result",
          "data": {
            "text/plain": [
              "<_PrefetchDataset element_spec=(Trajectory(\n",
              "{'action': TensorSpec(shape=(64, 2), dtype=tf.int64, name=None),\n",
              " 'discount': TensorSpec(shape=(64, 2), dtype=tf.float32, name=None),\n",
              " 'next_step_type': TensorSpec(shape=(64, 2), dtype=tf.int32, name=None),\n",
              " 'observation': TensorSpec(shape=(64, 2, 4), dtype=tf.float32, name=None),\n",
              " 'policy_info': (),\n",
              " 'reward': TensorSpec(shape=(64, 2), dtype=tf.float32, name=None),\n",
              " 'step_type': TensorSpec(shape=(64, 2), dtype=tf.int32, name=None)}), BufferInfo(ids=TensorSpec(shape=(64, 2), dtype=tf.int64, name=None), probabilities=TensorSpec(shape=(64,), dtype=tf.float32, name=None)))>"
            ]
          },
          "metadata": {},
          "execution_count": 21
        }
      ]
    },
    {
      "cell_type": "markdown",
      "source": [
        "## Training"
      ],
      "metadata": {
        "id": "HNuJ3qTWuVxk"
      }
    },
    {
      "cell_type": "markdown",
      "source": [
        "이제 준비를 마쳤으니 본격적으로 학습을 진행하도록 하겠습니다. (약 15분 가량 소요됩니다.)"
      ],
      "metadata": {
        "id": "6OBv5rfeuYEo"
      }
    },
    {
      "cell_type": "code",
      "source": [
        "iterator = iter(dataset)\n",
        "\n",
        "# (Optional) Optimize by wrapping some of the code in a graph\n",
        "# using TF function.\n",
        "agent.train = common.function(agent.train)\n",
        "\n",
        "# Reset the train step\n",
        "agent.train_step_counter.assign(0)\n",
        "\n",
        "# Evaluate the agent's policy once before training.\n",
        "avg_return = compute_avg_return(eval_env, agent.policy,\n",
        "                                num_eval_episodes)\n",
        "returns = [avg_return]\n",
        "\n",
        "for _ in range(num_iterations):\n",
        "\n",
        "    # Collect a few steps using collect_policy and \n",
        "    # save to the replay buffer.\n",
        "    for _ in range(collect_steps_per_iteration):\n",
        "        collect_step(train_env, agent.collect_policy, replay_buffer)\n",
        "\n",
        "    # Sample a batch of data from the buffer and update \n",
        "    # the agent's network.\n",
        "    experience, unused_info = next(iterator)\n",
        "    train_loss = agent.train(experience).loss\n",
        "\n",
        "    step = agent.train_step_counter.numpy()\n",
        "\n",
        "    if step % log_interval == 0:\n",
        "        print('step = {0}: loss = {1}'.format(step, train_loss))\n",
        "\n",
        "    if step % eval_interval == 0:\n",
        "        avg_return = compute_avg_return(eval_env, agent.policy,\n",
        "                                        num_eval_episodes)\n",
        "        print('step = {0}: Average Return = {1}'.format(step, avg_return))\n",
        "        returns.append(avg_return)\n"
      ],
      "metadata": {
        "colab": {
          "base_uri": "https://localhost:8080/"
        },
        "id": "CCMY3LHVuSkM",
        "outputId": "213e8959-092c-4769-b26f-bb0b6b0f76f2"
      },
      "execution_count": 24,
      "outputs": [
        {
          "output_type": "stream",
          "name": "stderr",
          "text": [
            "WARNING:tensorflow:From /usr/local/lib/python3.10/dist-packages/tensorflow/python/util/dispatch.py:1176: calling foldr_v2 (from tensorflow.python.ops.functional_ops) with back_prop=False is deprecated and will be removed in a future version.\n",
            "Instructions for updating:\n",
            "back_prop=False is deprecated. Consider using tf.stop_gradient instead.\n",
            "Instead of:\n",
            "results = tf.foldr(fn, elems, back_prop=False)\n",
            "Use:\n",
            "results = tf.nest.map_structure(tf.stop_gradient, tf.foldr(fn, elems))\n"
          ]
        },
        {
          "output_type": "stream",
          "name": "stdout",
          "text": [
            "step = 200: loss = 15.176492691040039\n",
            "step = 400: loss = 3.172837257385254\n",
            "step = 600: loss = 2.7521090507507324\n",
            "step = 800: loss = 5.651454448699951\n",
            "step = 1000: loss = 4.49054479598999\n",
            "step = 1000: Average Return = 23.5\n",
            "step = 1200: loss = 12.627233505249023\n",
            "step = 1400: loss = 35.17498016357422\n",
            "step = 1600: loss = 41.012474060058594\n",
            "step = 1800: loss = 51.81326675415039\n",
            "step = 2000: loss = 36.19181823730469\n",
            "step = 2000: Average Return = 41.0\n",
            "step = 2200: loss = 89.0496597290039\n",
            "step = 2400: loss = 26.515731811523438\n",
            "step = 2600: loss = 27.03225326538086\n",
            "step = 2800: loss = 15.822851181030273\n",
            "step = 3000: loss = 50.7889289855957\n",
            "step = 3000: Average Return = 59.900001525878906\n",
            "step = 3200: loss = 19.030651092529297\n",
            "step = 3400: loss = 85.69596862792969\n",
            "step = 3600: loss = 7.263143539428711\n",
            "step = 3800: loss = 130.2899627685547\n",
            "step = 4000: loss = 97.78639221191406\n",
            "step = 4000: Average Return = 74.9000015258789\n",
            "step = 4200: loss = 98.91725158691406\n",
            "step = 4400: loss = 131.42599487304688\n",
            "step = 4600: loss = 18.549808502197266\n",
            "step = 4800: loss = 11.804783821105957\n",
            "step = 5000: loss = 51.050331115722656\n",
            "step = 5000: Average Return = 57.0\n",
            "step = 5200: loss = 34.375179290771484\n",
            "step = 5400: loss = 48.633602142333984\n",
            "step = 5600: loss = 3.450563430786133\n",
            "step = 5800: loss = 3.5368452072143555\n",
            "step = 6000: loss = 19.859066009521484\n",
            "step = 6000: Average Return = 99.30000305175781\n",
            "step = 6200: loss = 42.20770263671875\n",
            "step = 6400: loss = 61.90203857421875\n",
            "step = 6600: loss = 112.90184783935547\n",
            "step = 6800: loss = 93.95928955078125\n",
            "step = 7000: loss = 103.81599426269531\n",
            "step = 7000: Average Return = 114.19999694824219\n",
            "step = 7200: loss = 169.52581787109375\n",
            "step = 7400: loss = 37.88616943359375\n",
            "step = 7600: loss = 35.03067398071289\n",
            "step = 7800: loss = 101.38488006591797\n",
            "step = 8000: loss = 22.832706451416016\n",
            "step = 8000: Average Return = 169.6999969482422\n",
            "step = 8200: loss = 211.86627197265625\n",
            "step = 8400: loss = 5.217466354370117\n",
            "step = 8600: loss = 127.83999633789062\n",
            "step = 8800: loss = 34.20608901977539\n",
            "step = 9000: loss = 95.34366607666016\n",
            "step = 9000: Average Return = 185.0\n",
            "step = 9200: loss = 62.15339660644531\n",
            "step = 9400: loss = 26.874011993408203\n",
            "step = 9600: loss = 131.01341247558594\n",
            "step = 9800: loss = 4.652212619781494\n",
            "step = 10000: loss = 13.746362686157227\n",
            "step = 10000: Average Return = 187.6999969482422\n",
            "step = 10200: loss = 41.41382598876953\n",
            "step = 10400: loss = 35.69404220581055\n",
            "step = 10600: loss = 66.30072784423828\n",
            "step = 10800: loss = 11.542268753051758\n",
            "step = 11000: loss = 242.58018493652344\n",
            "step = 11000: Average Return = 197.1999969482422\n",
            "step = 11200: loss = 51.04609298706055\n",
            "step = 11400: loss = 93.66766357421875\n",
            "step = 11600: loss = 6.5406880378723145\n",
            "step = 11800: loss = 14.255853652954102\n",
            "step = 12000: loss = 37.778221130371094\n",
            "step = 12000: Average Return = 198.8000030517578\n",
            "step = 12200: loss = 28.99712371826172\n",
            "step = 12400: loss = 6.446573734283447\n",
            "step = 12600: loss = 94.5208740234375\n",
            "step = 12800: loss = 10.64864730834961\n",
            "step = 13000: loss = 207.3104248046875\n",
            "step = 13000: Average Return = 193.6999969482422\n",
            "step = 13200: loss = 263.2611999511719\n",
            "step = 13400: loss = 10.743682861328125\n",
            "step = 13600: loss = 277.49481201171875\n",
            "step = 13800: loss = 103.64683532714844\n",
            "step = 14000: loss = 155.1150360107422\n",
            "step = 14000: Average Return = 196.89999389648438\n",
            "step = 14200: loss = 93.8164291381836\n",
            "step = 14400: loss = 352.8650817871094\n",
            "step = 14600: loss = 47.5596923828125\n",
            "step = 14800: loss = 10.48331356048584\n",
            "step = 15000: loss = 13.885055541992188\n",
            "step = 15000: Average Return = 199.39999389648438\n",
            "step = 15200: loss = 120.58109283447266\n",
            "step = 15400: loss = 13.50932788848877\n",
            "step = 15600: loss = 237.6805419921875\n",
            "step = 15800: loss = 18.61981201171875\n",
            "step = 16000: loss = 21.70909309387207\n",
            "step = 16000: Average Return = 200.0\n",
            "step = 16200: loss = 80.84163665771484\n",
            "step = 16400: loss = 75.6095962524414\n",
            "step = 16600: loss = 21.7482852935791\n",
            "step = 16800: loss = 21.680984497070312\n",
            "step = 17000: loss = 23.70558738708496\n",
            "step = 17000: Average Return = 200.0\n",
            "step = 17200: loss = 589.8607177734375\n",
            "step = 17400: loss = 113.33369445800781\n",
            "step = 17600: loss = 17.06940269470215\n",
            "step = 17800: loss = 156.25973510742188\n",
            "step = 18000: loss = 7.469478130340576\n",
            "step = 18000: Average Return = 198.5\n",
            "step = 18200: loss = 85.20742797851562\n",
            "step = 18400: loss = 633.4786987304688\n",
            "step = 18600: loss = 18.394775390625\n",
            "step = 18800: loss = 21.407718658447266\n",
            "step = 19000: loss = 21.923587799072266\n",
            "step = 19000: Average Return = 200.0\n",
            "step = 19200: loss = 84.29955291748047\n",
            "step = 19400: loss = 13.655986785888672\n",
            "step = 19600: loss = 317.0997009277344\n",
            "step = 19800: loss = 19.000690460205078\n",
            "step = 20000: loss = 20.6492919921875\n",
            "step = 20000: Average Return = 200.0\n"
          ]
        }
      ]
    },
    {
      "cell_type": "markdown",
      "source": [
        "## Visualization"
      ],
      "metadata": {
        "id": "QzASUJWGuekH"
      }
    },
    {
      "cell_type": "code",
      "source": [
        "iterations = range(0, num_iterations + 1, eval_interval)\n",
        "plt.plot(iterations, returns)\n",
        "plt.ylabel('Average Return')\n",
        "plt.xlabel('Iterations')\n",
        "plt.ylim(top=250)"
      ],
      "metadata": {
        "colab": {
          "base_uri": "https://localhost:8080/",
          "height": 474
        },
        "id": "12HK2geZuhGD",
        "outputId": "b8eed827-1fd1-4871-801d-f184f9e1ea90"
      },
      "execution_count": 25,
      "outputs": [
        {
          "output_type": "execute_result",
          "data": {
            "text/plain": [
              "(4.174999999999999, 250.0)"
            ]
          },
          "metadata": {},
          "execution_count": 25
        },
        {
          "output_type": "display_data",
          "data": {
            "text/plain": [
              "<Figure size 640x480 with 1 Axes>"
            ],
            "image/png": "[encoded data removed]"
          },
          "metadata": {}
        }
      ]
    },
    {
      "cell_type": "markdown",
      "source": [
        "잘 학습이 되었는지 확인까지 해보도록 하겠습니다."
      ],
      "metadata": {
        "id": "U8J9TQJCurO1"
      }
    },
    {
      "cell_type": "code",
      "source": [
        "def embed_mp4(filename):\n",
        "    \"\"\"Embeds an mp4 file in the notebook.\"\"\"\n",
        "    video = open(filename, 'rb').read()\n",
        "    b64 = base64.b64encode(video)\n",
        "    tag = '''\n",
        "  <video width=\"640\" height=\"480\" controls>\n",
        "    <source src=\"data:video/mp4;base64,{0}\" type=\"video/mp4\">\n",
        "  Your browser does not support the video tag.\n",
        "  </video>'''.format(b64.decode())\n",
        "\n",
        "    return IPython.display.HTML(tag)"
      ],
      "metadata": {
        "id": "_P6zNPFkuhyE"
      },
      "execution_count": 26,
      "outputs": []
    },
    {
      "cell_type": "code",
      "source": [
        "# HIDE OUTPUT\n",
        "def create_policy_eval_video(policy, filename, num_episodes=5, fps=30):\n",
        "    filename = filename + \".mp4\"\n",
        "    with imageio.get_writer(filename, fps=fps) as video:\n",
        "        for _ in range(num_episodes):\n",
        "            time_step = eval_env.reset()\n",
        "            video.append_data(eval_py_env.render())\n",
        "            while not time_step.is_last():\n",
        "                action_step = policy.action(time_step)\n",
        "                time_step = eval_env.step(action_step.action)\n",
        "                video.append_data(eval_py_env.render())\n",
        "    return embed_mp4(filename)\n",
        "\n",
        "\n",
        "create_policy_eval_video(agent.policy, \"trained-agent\")"
      ],
      "metadata": {
        "colab": {
          "base_uri": "https://localhost:8080/",
          "height": 539
        },
        "id": "1uA9vSqDuqma",
        "outputId": "ca33c7d1-e8fb-45a9-9667-2854f9421f01"
      },
      "execution_count": 27,
      "outputs": [
        {
          "output_type": "stream",
          "name": "stderr",
          "text": [
            "WARNING:root:IMAGEIO FFMPEG_WRITER WARNING: input image is not divisible by macro_block_size=16, resizing from (400, 600) to (400, 608) to ensure video compatibility with most codecs and players. To prevent resizing, make your input image divisible by the macro_block_size or set the macro_block_size to None (risking incompatibility). You may also see a FFMPEG warning concerning speedloss due to data not being aligned.\n"
          ]
        },
        {
          "output_type": "execute_result",
          "data": {
            "text/plain": [
              "<IPython.core.display.HTML object>"
            ],
            "text/html": [
              "\n",
              "  <video width=\"640\" height=\"480\" controls>\n",
              "    <source src=\"data:video/mp4;base64,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\" type=\"video/mp4\">\n",
              "  Your browser does not support the video tag.\n",
              "  </video>"
            ]
          },
          "metadata": {},
          "execution_count": 27
        }
      ]
    },
    {
      "cell_type": "markdown",
      "source": [
        "상대적으로도 잘 된게 맞는지 Random이랑 비교해보도록 하겠습니다."
      ],
      "metadata": {
        "id": "sERaP1-iuqUT"
      }
    },
    {
      "cell_type": "code",
      "source": [
        "# HIDE OUTPUT\n",
        "create_policy_eval_video(random_policy, \"random-agent\")"
      ],
      "metadata": {
        "colab": {
          "base_uri": "https://localhost:8080/",
          "height": 539
        },
        "id": "k8EQeaIJuwIl",
        "outputId": "87804a93-871a-4868-cee9-0b3fe9418b73"
      },
      "execution_count": 28,
      "outputs": [
        {
          "output_type": "stream",
          "name": "stderr",
          "text": [
            "WARNING:root:IMAGEIO FFMPEG_WRITER WARNING: input image is not divisible by macro_block_size=16, resizing from (400, 600) to (400, 608) to ensure video compatibility with most codecs and players. To prevent resizing, make your input image divisible by the macro_block_size or set the macro_block_size to None (risking incompatibility). You may also see a FFMPEG warning concerning speedloss due to data not being aligned.\n"
          ]
        },
        {
          "output_type": "execute_result",
          "data": {
            "text/plain": [
              "<IPython.core.display.HTML object>"
            ],
            "text/html": [
              "\n",
              "  <video width=\"640\" height=\"480\" controls>\n",
              "    <source src=\"data:video/mp4;base64,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\" type=\"video/mp4\">\n",
              "  Your browser does not support the video tag.\n",
              "  </video>"
            ]
          },
          "metadata": {},
          "execution_count": 28
        }
      ]
    },
    {
      "cell_type": "markdown",
      "source": [
        "다양한 실제 사례들\n",
        "\n",
        "- https://wandb.ai/mukilan/intro_to_gym/reports/A-Gentle-Introduction-to-OpenAI-Gym--VmlldzozMjg5MTA3\n",
        "- https://www.youtube.com/watch?v=V1eYniJ0Rnk\n",
        "- https://huggingface.co/andrewzhang505/sample-factory-2-doom-battle"
      ],
      "metadata": {
        "id": "4hkotITavTZF"
      }
    },
    {
      "cell_type": "code",
      "source": [],
      "metadata": {
        "id": "jR4GLAvEuxso"
      },
      "execution_count": null,
      "outputs": []
    }
  ]
}