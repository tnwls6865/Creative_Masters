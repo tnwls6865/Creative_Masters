{
  "nbformat": 4,
  "nbformat_minor": 0,
  "metadata": {
    "colab": {
      "provenance": [],
      "authorship_tag": "ABX9TyMSJv8fPbpjqFaD2THLq2Pk",
      "include_colab_link": true
    },
    "kernelspec": {
      "name": "python3",
      "display_name": "Python 3"
    },
    "language_info": {
      "name": "python"
    }
  },
  "cells": [
    {
      "cell_type": "markdown",
      "metadata": {
        "id": "view-in-github",
        "colab_type": "text"
      },
      "source": [
        "<a href=\"https://colab.research.google.com/github/tnwls6865/Creative_Masters/blob/main/week4.ipynb\" target=\"_parent\"><img src=\"https://colab.research.google.com/assets/colab-badge.svg\" alt=\"Open In Colab\"/></a>"
      ]
    },
    {
      "cell_type": "markdown",
      "source": [
        "# Creative Masters"
      ],
      "metadata": {
        "id": "QpllB_0fDYly"
      }
    },
    {
      "cell_type": "markdown",
      "source": [
        "## Google Drive와의 연동"
      ],
      "metadata": {
        "id": "EcYFc_biGI7C"
      }
    },
    {
      "cell_type": "markdown",
      "source": [
        "금일 실습은 실제 데이터를 가지고 진행할 예정입니다. 하지만 저희는 현재 구글에서 제공하는 colab이라는 가상환경을 사용중이기 때문에 데이터를 쉽게 가져오도록 하기 위해서 구글 드라이브와 colab을 연동시켜보도록 하겠습니다."
      ],
      "metadata": {
        "id": "GunSX3BqGLG2"
      }
    },
    {
      "cell_type": "code",
      "source": [
        "from google.colab import auth\n",
        "auth.authenticate_user()\n",
        "\n",
        "from google.colab import drive\n",
        "drive.mount('/content/gdrive')"
      ],
      "metadata": {
        "colab": {
          "base_uri": "https://localhost:8080/"
        },
        "id": "XKQISLCBDY2I",
        "outputId": "ba0355f4-1e16-4736-f112-8e7ef71baca6"
      },
      "execution_count": null,
      "outputs": [
        {
          "output_type": "stream",
          "name": "stdout",
          "text": [
            "Drive already mounted at /content/gdrive; to attempt to forcibly remount, call drive.mount(\"/content/gdrive\", force_remount=True).\n"
          ]
        }
      ]
    },
    {
      "cell_type": "code",
      "source": [
        "import os\n",
        "\n",
        "print('/content/gdrive 내 폴더 및 파일')\n",
        "print(os.listdir('/content/gdrive'))\n",
        "\n",
        "print()\n",
        "\n",
        "print('/content/gdrive/MyDrive 내 폴더 및 파일')\n",
        "print(os.listdir('/content/gdrive/MyDrive')[:5])"
      ],
      "metadata": {
        "colab": {
          "base_uri": "https://localhost:8080/"
        },
        "id": "UWbbI_aNGZuH",
        "outputId": "5faf0826-6c89-493c-835a-cec06e14abeb"
      },
      "execution_count": null,
      "outputs": [
        {
          "output_type": "stream",
          "name": "stdout",
          "text": [
            "/content/gdrive 내 폴더 및 파일\n",
            "['.file-revisions-by-id', 'MyDrive', '.shortcut-targets-by-id', '.Trash-0']\n",
            "\n",
            "/content/gdrive/MyDrive 내 폴더 및 파일\n",
            "['Colab Notebooks', '우분투 이동용', 'TranscodedWallpaper.png', '읽은 논문 정리.gdoc', 'parsed_data.json']\n"
          ]
        }
      ]
    },
    {
      "cell_type": "markdown",
      "source": [
        "## 데이터셋 불러오기"
      ],
      "metadata": {
        "id": "X6GDBufDHAOi"
      }
    },
    {
      "cell_type": "code",
      "execution_count": null,
      "metadata": {
        "id": "9lFKySgj7PIk"
      },
      "outputs": [],
      "source": [
        "import os\n",
        "import torch\n",
        "import torchvision\n",
        "from torch.utils.data import random_split\n",
        "from torchvision.datasets import ImageFolder"
      ]
    },
    {
      "cell_type": "markdown",
      "source": [
        "저는 실습을 위해서 데이터를 다운받도록 하겠습니다. torchvision에 있는 download_url 함수를 사용하도록 하겠습니다. 이 함수는 URL만으로 데이터셋을 다운로드 받을 수 있게 해주는 함수입니다.\n",
        "\n",
        "다운로드한 tgz 압축파일을 압축풀기 하도록 하겠습니다. 이를 위해 tarfile모듈을 사용하도록 하겠습니다."
      ],
      "metadata": {
        "id": "n_XURn9CMCwD"
      }
    },
    {
      "cell_type": "code",
      "source": [
        "import tarfile\n",
        "from torchvision.datasets.utils import download_url\n",
        "\n",
        "# Dowload the dataset\n",
        "# dataset_url = \"https://s3.amazonaws.com/fast-ai-imageclas/cifar10.tgz\"\n",
        "# download_url(dataset_url, '/content/gdrive/MyDrive')\n",
        "\n",
        "# Extract from archive\n",
        "# with tarfile.open('/content/gdrive/MyDrive/cifar10.tgz', 'r:gz') as tar:\n",
        "#     tar.extractall(path='/content/gdrive/MyDrive/cifar10_data')"
      ],
      "metadata": {
        "id": "4gbFuL8qDLCC"
      },
      "execution_count": null,
      "outputs": []
    },
    {
      "cell_type": "markdown",
      "source": [
        "### with문 사용 설명"
      ],
      "metadata": {
        "id": "zAZerRj-MPhh"
      }
    },
    {
      "cell_type": "markdown",
      "source": [
        "with의 사용과 관련해서는 예시를 들어 설명드리도록 하겠습니다.\n",
        "\n",
        "프로그램시 자원의 활용은\n",
        "\n",
        "1. 자원의 획득\n",
        "2. 자원의 사용\n",
        "3. 자원의 반납\n",
        "\n",
        "순으로 이어집니다.\n",
        "\n",
        "예를 들면 다음과 같습니다.\n",
        "\n",
        "1. 파일을 열고, (자원의 획득)\n",
        "2. 안의 내용을 사용하고, (자원의 사용)\n",
        "3. 파일을 닫고. (자원의 반납)\n",
        "\n",
        "실습을 위해 임의로 txt 파일을 만들어보도록 하겠습니다."
      ],
      "metadata": {
        "id": "ySTf6b0eMOzw"
      }
    },
    {
      "cell_type": "markdown",
      "source": [
        "* with문을 사용하지 않는 경우"
      ],
      "metadata": {
        "id": "k1Y6bzTMMTfd"
      }
    },
    {
      "cell_type": "code",
      "source": [
        "# 자원의 획득\n",
        "f = open(\"my_text_file.txt\", \"w\")\n",
        "\n",
        "# 자원의 사용\n",
        "text = f.write('hello')\n",
        "\n",
        "# 자원의 반납\n",
        "f.close()"
      ],
      "metadata": {
        "id": "T1jsQVZMHUnw"
      },
      "execution_count": null,
      "outputs": []
    },
    {
      "cell_type": "markdown",
      "source": [
        "- with문을 사용하는 경우\n",
        "\n",
        "(close를 쓰지 않아도 알아서 close가 됩니다.)"
      ],
      "metadata": {
        "id": "mdrYNQ6iMV4m"
      }
    },
    {
      "cell_type": "code",
      "source": [
        "with open(\"my_text_file.txt\", \"w\") as f:\n",
        "    text = f.write('hello')"
      ],
      "metadata": {
        "id": "Nnx122zTMWJ3"
      },
      "execution_count": null,
      "outputs": []
    },
    {
      "cell_type": "markdown",
      "source": [
        "### 데이터 살펴보기"
      ],
      "metadata": {
        "id": "SlogqJc1kByq"
      }
    },
    {
      "cell_type": "markdown",
      "source": [
        "데이터 세트는 제 드라이브의 cifar10 디렉토리로 추출됩니다. 여기에는 train 세트(50000개 이미지)와 test 세트(10000개 이미지)가 각각 포함된 train 및 test 폴더 2개가 포함되어 있습니다. 각각은 이미지의 각 클래스에 대해 하나씩 10개의 폴더를 포함합니다. os.listdir을 사용하여 이를 확인하도록 하겠습니다."
      ],
      "metadata": {
        "id": "OzpaYlzUMdnP"
      }
    },
    {
      "cell_type": "code",
      "source": [
        "data_dir = '/content/gdrive/MyDrive/cifar10_data/cifar10'\n",
        "\n",
        "print(os.listdir(data_dir))"
      ],
      "metadata": {
        "colab": {
          "base_uri": "https://localhost:8080/"
        },
        "id": "p6V1No0fMXfD",
        "outputId": "eb4dbcf9-f0c7-4162-dee4-906af84e3f1c"
      },
      "execution_count": null,
      "outputs": [
        {
          "output_type": "stream",
          "name": "stdout",
          "text": [
            "['test', 'train']\n"
          ]
        }
      ]
    },
    {
      "cell_type": "code",
      "source": [
        "classes = os.listdir(data_dir + \"/train\")\n",
        "print(classes)"
      ],
      "metadata": {
        "id": "ulraaI4JMnY1",
        "colab": {
          "base_uri": "https://localhost:8080/"
        },
        "outputId": "639150da-50de-483a-8544-cc55e803d91c"
      },
      "execution_count": null,
      "outputs": [
        {
          "output_type": "stream",
          "name": "stdout",
          "text": [
            "['bird', 'frog', 'dog', 'airplane', 'horse', 'truck', 'ship', 'deer', 'automobile', 'cat']\n"
          ]
        }
      ]
    },
    {
      "cell_type": "markdown",
      "source": [
        "두 개의 폴더 내부를 살펴보겠습니다. 하나는 훈련 세트에서, 다른 하나는 테스트 세트에서 가져옵니다. 각 클래스에 동일한 수의 이미지(트레이닝 세트에 5000개, 테스트 세트에 1000개)가 있는지 확인할 수 있습니다."
      ],
      "metadata": {
        "id": "mSyVTm8QjHlI"
      }
    },
    {
      "cell_type": "code",
      "source": [
        "airplane_files = os.listdir(data_dir + \"/train/airplane\")\n",
        "print('No. of training examples for airplanes:', len(airplane_files))\n",
        "print(airplane_files[:5])"
      ],
      "metadata": {
        "colab": {
          "base_uri": "https://localhost:8080/"
        },
        "id": "t6EmI9V2jEl9",
        "outputId": "cbc04d85-8121-4e63-9dba-fe02671b2524"
      },
      "execution_count": null,
      "outputs": [
        {
          "output_type": "stream",
          "name": "stdout",
          "text": [
            "No. of training examples for airplanes: 0\n",
            "[]\n"
          ]
        }
      ]
    },
    {
      "cell_type": "code",
      "source": [
        "ship_test_files = os.listdir(data_dir + \"/test/ship\")\n",
        "print(\"No. of test examples for ship:\", len(ship_test_files))\n",
        "print(ship_test_files[:5])"
      ],
      "metadata": {
        "colab": {
          "base_uri": "https://localhost:8080/"
        },
        "id": "CHvrk4CDjiu4",
        "outputId": "f741084e-aa32-4590-9b0f-a68142289b0b"
      },
      "execution_count": null,
      "outputs": [
        {
          "output_type": "stream",
          "name": "stdout",
          "text": [
            "No. of test examples for ship: 0\n",
            "[]\n"
          ]
        }
      ]
    },
    {
      "cell_type": "markdown",
      "source": [
        "저는 os.listdir보다는 glob 라이브러리의 glob함수를 더 선호합니다."
      ],
      "metadata": {
        "id": "H8bhuffYjlUZ"
      }
    },
    {
      "cell_type": "code",
      "source": [
        "from glob import glob\n",
        "\n",
        "ship_test_files = glob(data_dir + \"/test/ship/*.png\")\n",
        "print(\"No. of test examples for ship:\", len(ship_test_files))\n",
        "print(ship_test_files[:5])"
      ],
      "metadata": {
        "colab": {
          "base_uri": "https://localhost:8080/"
        },
        "id": "pWSh9-qZjkXl",
        "outputId": "4b728127-2876-4b26-8d10-64262f1567e7"
      },
      "execution_count": null,
      "outputs": [
        {
          "output_type": "stream",
          "name": "stdout",
          "text": [
            "No. of test examples for ship: 0\n",
            "[]\n"
          ]
        }
      ]
    },
    {
      "cell_type": "markdown",
      "source": [
        "위의 디렉토리 구조(클래스당 하나의 폴더)는 많은 컴퓨터 비전 데이터 세트에서 사용되며 대부분의 딥러닝 라이브러리는 이러한 데이터 세트 작업을 위한 유틸리티를 제공합니다. 우리는 데이터를 PyTorch 텐서로 로드하기 위해 torchvision의 ImageFolder 클래스를 사용할 수 있습니다."
      ],
      "metadata": {
        "id": "LGdXXr6vjnGq"
      }
    },
    {
      "cell_type": "code",
      "source": [
        "from torchvision.datasets import ImageFolder\n",
        "from torchvision.transforms import ToTensor"
      ],
      "metadata": {
        "id": "-p4fVUnrjmLg"
      },
      "execution_count": null,
      "outputs": []
    },
    {
      "cell_type": "code",
      "source": [
        "dataset = ImageFolder(data_dir+'/train', transform=ToTensor())"
      ],
      "metadata": {
        "id": "k14irAMvjoD-"
      },
      "execution_count": null,
      "outputs": []
    },
    {
      "cell_type": "markdown",
      "source": [
        "train 데이터 세트의 요소를 살펴보겠습니다. 각 요소는 이미지 텐서와 레이블을 포함하는 튜플입니다. 데이터는 3채널(RGB)의 32x32픽셀 컬러 이미지로 구성되어 있으므로 각 이미지 텐서의 모양은 (3, 32, 32)입니다."
      ],
      "metadata": {
        "id": "a7VS_1XEjr-s"
      }
    },
    {
      "cell_type": "code",
      "source": [
        "img, label = dataset[9978]\n",
        "print(img.shape, label)\n",
        "print(img)"
      ],
      "metadata": {
        "id": "WpndWdf_jovR"
      },
      "execution_count": null,
      "outputs": []
    },
    {
      "cell_type": "markdown",
      "source": [
        "matplotlib를 사용하여 이미지를 볼 수 있지만 텐서 차원을 (32,32,3)으로 변경해야 합니다."
      ],
      "metadata": {
        "id": "kZOn8VtYjtAD"
      }
    },
    {
      "cell_type": "code",
      "source": [
        "def show_example(img, label):\n",
        "    print('Label: ', dataset.classes[label], \"(\"+str(label)+\")\")\n",
        "    # plt.imshow(img)\n",
        "    plt.imshow(img.permute(1, 2, 0))"
      ],
      "metadata": {
        "id": "YwWceNPBjqCt"
      },
      "execution_count": null,
      "outputs": []
    },
    {
      "cell_type": "code",
      "source": [
        "show_example(*dataset[0])"
      ],
      "metadata": {
        "id": "DuGTHc5OjuB4"
      },
      "execution_count": null,
      "outputs": []
    },
    {
      "cell_type": "code",
      "source": [
        "show_example(*dataset[9999])"
      ],
      "metadata": {
        "id": "lk0guXxAjvMB"
      },
      "execution_count": null,
      "outputs": []
    },
    {
      "cell_type": "markdown",
      "source": [
        "### 가변인자 (Variadic Parameters) 사용\n",
        "\n",
        "종종 어떤 함수에서 가변인자를 필요로 할 때가 있습니다. 예를 들어, 들어오는 인자의 갯수를 모른다거나, 그 어떤 인자라도 모두 받아서 처리를 해야하는때가 있습니다.\n",
        "\n",
        "파이썬에서는 인자의 종류가 2가지가 있는데 하나는 positional arguments이고, 하나는 keyword arguments입니다. 전자는 말그대로 위치에 따라 정해지는 인자이며, 후자는 키워드를 가진 즉, 이름을 가진 인자를 말합니다.\n",
        "\n",
        "variadic positional/keyword arguments를 살펴보기 전에 간단하게 positional arguments과 keyword arguments에 대해 살펴보겠습니다."
      ],
      "metadata": {
        "id": "dm3YKLfHjw6V"
      }
    },
    {
      "cell_type": "code",
      "source": [
        "# 2~4명의 주자로 이루어진 달리기 대회 랭킹을 보여주는 함수\n",
        "def save_ranking(first, second, third=None, fourth=None):\n",
        "    rank = {}\n",
        "    rank[1], rank[2] = first, second\n",
        "    rank[3] = third if third is not None else 'Nobody'\n",
        "    rank[4] = fourth if fourth is not None else 'Nobody'\n",
        "    print(rank)\n",
        "\n",
        "# positional arguments 2개 전달\n",
        "save_ranking('ming', 'alice')\n",
        "# positional arguments 2개와 keyword argument 1개 전달\n",
        "save_ranking('alice', 'ming', third='mike')\n",
        "# positional arguments 2개와 keyword arguments 2개 전달 (단, 하나는 positional argument 형태로 전달)\n",
        "save_ranking('alice', 'ming', 'mike', fourth='jim')"
      ],
      "metadata": {
        "id": "2eNJTanhjwHW"
      },
      "execution_count": null,
      "outputs": []
    },
    {
      "cell_type": "markdown",
      "source": [
        "위의 함수는 first, second라는 두 개의 positional arguments를 받으며 third, fourth라는 두 개의 keyword arguments를 받고 있습니다다. positional arguments의 경우 생략이 불가능하며 갯수대로 정해진 위치에 인자를 전달해야합니다. 그러나 keyword arguments의 경우 함수 선언시 디폴트값을 설정할 수 있으며, 만약 인자를 생략할 시 해당 디폴트값이 인자의 값으로 들어갑니다. 즉, 이 형태의 인자는 생략이 가능합니다. 따라서, 여기서 알 수 있는건 keyword arguments의 경우 생략이 가능하기 때문에, positional arguments 이전에 선언될 수는 없습니다. 즉, 다음의 코드는 에러를 발생시킵니다."
      ],
      "metadata": {
        "id": "G58icq2aj2-N"
      }
    },
    {
      "cell_type": "code",
      "source": [
        "def save_ranking(first, second=None, third, fourth=None):\n",
        "    rank = {}\n",
        "    rank[1], rank[2] = first, second\n",
        "    rank[3] = third if third is not None else 'Nobody'\n",
        "    rank[4] = fourth if fourth is not None else 'Nobody'\n",
        "    print(rank)"
      ],
      "metadata": {
        "id": "7a3jOZrmj14z"
      },
      "execution_count": null,
      "outputs": []
    },
    {
      "cell_type": "markdown",
      "source": [
        "그런데, 여기서 한 가지 문제를 맞닥뜨릴 수 있습니다. 만약, 최대 4명의 주자가 아닌 10명 또는 그 이상의 정해지지 않은 주자가 있다고 가정하겠습니다. 이 경우엔 10개의 인자를 선언하기도 번거로우며, 특히, 주자의 수가 미정일 경우 위와 같은 형태로는 처리가 불가능합니다. 이 때 사용하는게 바로 **가변인자 (Variadic Arguments)**입니다. 가변인자는 좀 전에 위에서 설명한 positional arguments와 keyword arguments에 모두 사용할 수 있으며, 사용 방법은 다음과 같습니다."
      ],
      "metadata": {
        "id": "RGsQvAc3j4z2"
      }
    },
    {
      "cell_type": "code",
      "source": [
        "# positional arguments만 받을 때\n",
        "def save_ranking(*args):\n",
        "    print(args)\n",
        "save_ranking('ming', 'alice', 'tom', 'wilson', 'roy')"
      ],
      "metadata": {
        "id": "Jh5SbwE9j39r"
      },
      "execution_count": null,
      "outputs": []
    },
    {
      "cell_type": "code",
      "source": [
        "# keyword arguments만 받을 때\n",
        "def save_ranking(**kwargs):\n",
        "    print(kwargs)\n",
        "save_ranking(first='ming', second='alice', fourth='wilson', third='tom', fifth='roy')"
      ],
      "metadata": {
        "id": "W9UwALyIj55l"
      },
      "execution_count": null,
      "outputs": []
    },
    {
      "cell_type": "markdown",
      "source": [
        "### 본인의 Dataset 활용"
      ],
      "metadata": {
        "id": "cfOVdiZFtwiA"
      }
    },
    {
      "cell_type": "markdown",
      "source": [
        "저는 실습을 위해서 벤치마크 데이터인 CIFAR-10 데이터를 다운받아서 사용했습니다. 하지만 위와 같은 방식으로 본인만의 데이터를 사용할 수도 있습니다."
      ],
      "metadata": {
        "id": "VWVJuU4Ftzno"
      }
    },
    {
      "cell_type": "code",
      "source": [
        "custom_dataset = ImageFolder('/content/gdrive/MyDrive/custom/train', transform=ToTensor())"
      ],
      "metadata": {
        "id": "uJ7cCl3Atz_3"
      },
      "execution_count": null,
      "outputs": []
    },
    {
      "cell_type": "code",
      "source": [
        "custom_img, custom_label = custom_dataset[0]\n",
        "print(custom_img.shape, custom_label)\n",
        "print(custom_img)"
      ],
      "metadata": {
        "id": "P4JTpgNEDq6x"
      },
      "execution_count": null,
      "outputs": []
    },
    {
      "cell_type": "code",
      "source": [
        "show_example(*custom_dataset[0])"
      ],
      "metadata": {
        "id": "RF1za9RUDw1B"
      },
      "execution_count": null,
      "outputs": []
    },
    {
      "cell_type": "markdown",
      "source": [
        "### Training and Validation Datasets"
      ],
      "metadata": {
        "id": "WSwcTw-lj7wi"
      }
    },
    {
      "cell_type": "markdown",
      "source": [
        "실제 기계 학습 모델을 학습할 때 데이터 세트를 세 파트로 나누는 것이 일반적입니다.\n",
        "\n",
        "* Training 세트 - 모델을 학습하는 데 사용됩니다. 즉, 경사 하강법을 사용하여 loss를 계산하고 모델의 가중치를 조정합니다.\n",
        "* Validation 세트 - 훈련하는 동안 모델을 평가하고 하이퍼파라미터를 조정하여 모델의 최상의 버전을 선택하는 데 사용됩니다.\n",
        "* Test 세트 - 다양한 모델 또는 다양한 유형의 접근 방식을 비교하고 모델의 최종 정확도를 보고하는 데 사용됩니다.\n",
        "\n",
        "미리 정의된 Validation 세트가 없기 때문에 Validation 세트로 사용할 Training 세트의 일부분(5000개 을미지)을 별도로 설정하도록 하겠습니다. 이를 위해 PyTorch의 random_split을 사용합니다."
      ],
      "metadata": {
        "id": "4O31sc5Sj7Yy"
      }
    },
    {
      "cell_type": "code",
      "source": [
        "val_size = 5000\n",
        "train_size = len(dataset) - val_size\n",
        "\n",
        "print(train_size)"
      ],
      "metadata": {
        "id": "dY7l9sXUj6bE"
      },
      "execution_count": null,
      "outputs": []
    },
    {
      "cell_type": "markdown",
      "source": [
        "컴퓨터 프로그램에서 발생하는 무작위 수는 사실 엄격한 의미의 무작위 수가 아닙니다. 어떤 특정한 시작 숫자를 정해 주면 컴퓨터가 정해진 알고리즘에 의해 마치 난수처럼 보이는 수열을 생성합니다. 이런 시작 숫자를 시드(seed)라고 합니다. 일단 생성된 난수는 다음번 난수 생성을 위한 시드값이 됩니다. 따라서 시드값은 한 번만 정해주면 됩니다. 시드는 보통 현재 시각등을 이용하여 자동으로 정해지지만 사람이 수동으로 설정할 수도 있습니다. 특정한 시드값이 사용되면 그 다음에 만들어지는 난수들은 모두 예측할 수 있습니다."
      ],
      "metadata": {
        "id": "yWQuhj_mkNcW"
      }
    },
    {
      "cell_type": "code",
      "source": [
        "import random\n",
        "import torch.backends.cudnn as cudnn\n",
        "\n",
        "torch.manual_seed(42)\n",
        "torch.cuda.manual_seed(42)\n",
        "torch.cuda.manual_seed_all(42)\n",
        "np.random.seed(42)\n",
        "cudnn.benchmark = False\n",
        "cudnn.deterministic = True\n",
        "random.seed(0)"
      ],
      "metadata": {
        "id": "dHefJKSmkMlW"
      },
      "execution_count": null,
      "outputs": []
    },
    {
      "cell_type": "code",
      "source": [
        "val_size = 5000\n",
        "train_size = len(dataset) - val_size\n",
        "\n",
        "train_ds, val_ds = random_split(dataset, [train_size, val_size])\n",
        "len(train_ds), len(val_ds)"
      ],
      "metadata": {
        "id": "PStv7JINkOcE"
      },
      "execution_count": null,
      "outputs": []
    },
    {
      "cell_type": "markdown",
      "source": [
        "이제 Training 및 Validation을 위한 DataLoader를 생성하여 데이터를 배치로 로드할 수 있습니다."
      ],
      "metadata": {
        "id": "Qwd-LqLqkkN5"
      }
    },
    {
      "cell_type": "markdown",
      "source": [
        "- PyTorch Korea 공식문서 설명\n",
        "\n",
        "데이터 샘플을 처리하는 코드는 지저분(messy)하고 유지보수가 어려울 수 있습니다; 더 나은 가독성(readability)과 모듈성(modularity)을 위해 데이터셋 코드를 모델 학습 코드로부터 분리하는 것이 이상적입니다. PyTorch는 torch.utils.data.DataLoader 와 torch.utils.data.Dataset 의 두 가지 데이터 기본 요소를 제공하여 미리 준비해둔(pre-loaded) 데이터셋 뿐만 아니라 가지고 있는 데이터를 사용할 수 있도록 합니다. Dataset 은 샘플과 정답(label)을 저장하고, DataLoader 는 Dataset 을 샘플에 쉽게 접근할 수 있도록 순회 가능한 객체(iterable)로 감쌉니다."
      ],
      "metadata": {
        "id": "iL60ds_RklYR"
      }
    },
    {
      "cell_type": "code",
      "source": [
        "from torch.utils.data.dataloader import DataLoader\n",
        "\n",
        "batch_size=128\n",
        "\n",
        "train_dl = DataLoader(train_ds, batch_size, shuffle=True, num_workers=4)\n",
        "val_dl = DataLoader(val_ds, batch_size*2, num_workers=4)"
      ],
      "metadata": {
        "id": "IsAmhi3tkikd"
      },
      "execution_count": null,
      "outputs": []
    },
    {
      "cell_type": "code",
      "source": [
        "for batch in train_dl:\n",
        "    print(batch)\n",
        "    break"
      ],
      "metadata": {
        "id": "52K_8DcMkmc1"
      },
      "execution_count": null,
      "outputs": []
    },
    {
      "cell_type": "markdown",
      "source": [
        "### Linear 모델"
      ],
      "metadata": {
        "id": "Y-6W7NGm_2lt"
      }
    },
    {
      "cell_type": "markdown",
      "source": [
        "Linear로 3개 층을 쌓아서 한번 모델을 만들어 보겠습니다. nn.Module을 하위 클래스로 분류하여 신경망을 정의하고 __init__에서 신경망 계층을 초기화합니다. 모든 nn.Module 하위 클래스는 전달 메서드의 입력 데이터에 대한 작업을 구현합니다. (이전 실습 내용과 동일합니다.)\n",
        "\n",
        "가능한 경우 GPU와 같은 하드웨어 가속기에서 모델을 훈련하는 것이 좋습니다. torch.cuda를 사용할 수 있는지 확인하고 그렇지 않으면 CPU를 계속 사용하는 코드를 작성합니다."
      ],
      "metadata": {
        "id": "hULCJcGI_hTr"
      }
    },
    {
      "cell_type": "code",
      "source": [
        "import torch\n",
        "from torch import nn\n",
        "\n",
        "# 학습에 사용할 CPU나 GPU 장치를 얻습니다.\n",
        "device = \"cuda\" if torch.cuda.is_available() else \"cpu\"\n",
        "print(f\"Using {device} device\")\n",
        "\n",
        "# 모델을 정의합니다.\n",
        "class NeuralNetwork(nn.Module):\n",
        "    def __init__(self):\n",
        "        super(NeuralNetwork, self).__init__()\n",
        "        self.flatten = nn.Flatten()\n",
        "        self.linear_relu_stack = nn.Sequential(\n",
        "            nn.Linear(28*28, 512),\n",
        "            nn.ReLU(),\n",
        "            nn.Linear(512, 512),\n",
        "            nn.ReLU(),\n",
        "            nn.Linear(512, 10)\n",
        "        )\n",
        "\n",
        "    def forward(self, x):\n",
        "        x = self.flatten(x)\n",
        "        logits = self.linear_relu_stack(x)\n",
        "        return logits\n",
        "\n",
        "model = NeuralNetwork().to(device)\n",
        "print(model)"
      ],
      "metadata": {
        "id": "BDuWLgGXknsv"
      },
      "execution_count": null,
      "outputs": []
    },
    {
      "cell_type": "markdown",
      "source": [
        "모델을 사용하기 위해 입력 데이터를 전달합니다. 그러면 일부 백그라운드 작업과 함께 모델의 전달이 실행됩니다. model.forward()를 직접 호출하지 않으셔도 됩니다.\n",
        "\n",
        "입력에서 모델을 호출하면 각 클래스에 대한 10개의 원시 예측 값의 각 출력에 해당하는 dim=0과 각 출력의 개별 값에 해당하는 dim=1인 2차원 텐서를 반환합니다. nn.Softmax 모듈의 인스턴스를 통과하여 예측 확률을 얻습니다."
      ],
      "metadata": {
        "id": "KC0sdBiL_zb1"
      }
    },
    {
      "cell_type": "code",
      "source": [
        "X = torch.rand(1, 28, 28, device=device)\n",
        "logits = model(X)\n",
        "pred_probab = nn.Softmax(dim=1)(logits)\n",
        "y_pred = pred_probab.argmax(1)\n",
        "print(f\"Predicted class: {y_pred}\")"
      ],
      "metadata": {
        "id": "OtNRzIo5_zow"
      },
      "execution_count": null,
      "outputs": []
    },
    {
      "cell_type": "markdown",
      "source": [
        "### 모델 학습"
      ],
      "metadata": {
        "id": "VvLZg8pu_5aQ"
      }
    },
    {
      "cell_type": "markdown",
      "source": [
        "loss함수와 optimzier를 설정해줍니다.\n",
        "\n",
        "또한 learning rate와 같은 hyper-parameter도 설정해줍니다."
      ],
      "metadata": {
        "id": "gQHrTjeGANg2"
      }
    },
    {
      "cell_type": "code",
      "source": [
        "loss_fn = nn.CrossEntropyLoss()\n",
        "optimizer = torch.optim.Adam(model.parameters(), lr=1e-3)"
      ],
      "metadata": {
        "id": "PRg8tdxA_6p_"
      },
      "execution_count": null,
      "outputs": []
    },
    {
      "cell_type": "markdown",
      "source": [
        "train 함수와 test 함수를 설정해보겠습니다."
      ],
      "metadata": {
        "id": "jz3n7S1kAOp9"
      }
    },
    {
      "cell_type": "code",
      "source": [
        "def train(dataloader, model, loss_fn, optimizer):\n",
        "    loss_history_list = list()\n",
        "    size = len(dataloader.dataset)\n",
        "    for batch, (X, y) in enumerate(dataloader):\n",
        "        X, y = X.to(device), y.to(device)\n",
        "\n",
        "        # 예측 오류 계산\n",
        "        pred = model(X)\n",
        "        loss = loss_fn(pred, y)\n",
        "\n",
        "        # 역전파\n",
        "        optimizer.zero_grad()\n",
        "        loss.backward()\n",
        "        optimizer.step()\n",
        "\n",
        "        if batch % 100 == 0:\n",
        "            loss, current = loss.item(), batch * len(X)\n",
        "            loss_history_list.append(loss)\n",
        "            print(f\"loss: {loss:>7f}  [{current:>5d}/{size:>5d}]\")\n",
        "\n",
        "    return loss_history_list"
      ],
      "metadata": {
        "id": "HeSg4T2TAO1z"
      },
      "execution_count": null,
      "outputs": []
    },
    {
      "cell_type": "markdown",
      "source": [
        "보통 딥러닝에서는 미니배치+루프 조합을 사용해서 parameter들을 업데이트하는데,\n",
        "한 루프에서 업데이트를 위해 loss.backward()를 호출하면 각 파라미터들의 .grad 값에 변화도가 저장이 됩니다.\n",
        "\n",
        "이후 다음 루프에서 zero_grad()를 하지않고 역전파를 시키면 이전 루프에서 .grad에 저장된 값이 다음 루프의 업데이트에도 간섭을 해서 원하는 방향으로 학습이 안되게 됩니다.\n",
        "\n",
        "따라서 루프가 한번 돌고나서 역전파를 하기전에 반드시 zero_grad()로 .grad 값들을 0으로 초기화시킨 후 학습을 진행해야 합니다."
      ],
      "metadata": {
        "id": "3kv3vnxeAQ-F"
      }
    },
    {
      "cell_type": "code",
      "source": [
        "def test(dataloader, model, loss_fn):\n",
        "    size = len(dataloader.dataset)\n",
        "    num_batches = len(dataloader)\n",
        "    model.eval()\n",
        "    test_loss, correct = 0, 0\n",
        "    with torch.no_grad():\n",
        "        for X, y in dataloader:\n",
        "            X, y = X.to(device), y.to(device)\n",
        "            pred = model(X)\n",
        "            test_loss += loss_fn(pred, y).item()\n",
        "            correct += (pred.argmax(1) == y).type(torch.float).sum().item()\n",
        "    test_loss /= num_batches\n",
        "    correct /= size\n",
        "    print(f\"Test Error: \\n Accuracy: {(100*correct):>0.1f}%, Avg loss: {test_loss:>8f} \\n\")\n",
        "\n",
        "    return test_loss, correct"
      ],
      "metadata": {
        "id": "8Wg_h1T1ARWk"
      },
      "execution_count": null,
      "outputs": []
    },
    {
      "cell_type": "markdown",
      "source": [
        "* with torch.no_grad()\n",
        "\n",
        "no_grad() with statement에 포함시키게 되면 Pytorch는 autograd engine을 꺼버립니다. 이 말은 더 이상 자동으로 gradient를 트래킹하지 않는다는 말이 됩니다. \n",
        "\n",
        "torch.no_grad()의 주된 목적은 autograd를 끔으로써 메모리 사용량을 줄이고 연산 속도를 높히기 위함입니다. \n",
        "\n",
        "* model.eval()\n",
        "\n",
        "위의 torch.no_grad()만 쓰면 되지 않나? gradient 계산 안하고 이제 됐잖아 라고 생각할 수 있습니다. 맞는 말이지만, model.eval()의 역할은 약간 다릅니다. PyTorch에서는 모델링 시 training과 inference시에 다르게 동작하는 layer들이 존재합니다. 예를 들면, Dropout layer는 학습시에는 동작해야하지만, inference시에는 동작하지 않는 것과 같은 예시를 들 수 있습니다. BatchNorm같은 경우도 마찬가지다.\n",
        "\n",
        "사실상 model.eval()는 이런 layer들의 동작을 inference(eval) mode로 바꿔준다는 목적으로 사용됩니다. 따라서, 우리가 보통 원하는 모델의 동작을 위해서는 위의 두 가지를 모두 사용해야하는 것이 맞습니다."
      ],
      "metadata": {
        "id": "0QqxLlfUATVF"
      }
    },
    {
      "cell_type": "markdown",
      "source": [
        "이제 본격적으로 학습을 진행하도록 하겠습니다."
      ],
      "metadata": {
        "id": "o6zd1IYwAU5-"
      }
    },
    {
      "cell_type": "code",
      "source": [
        "epochs = 10\n",
        "train_loss_list, valid_loss_list, valid_acc_list = list(), list(), list()\n",
        "\n",
        "for t in range(epochs):\n",
        "    print(f\"Epoch {t+1}\\n-------------------------------\")\n",
        "    train_loss_history_list = train(train_dl, model, loss_fn, optimizer)\n",
        "    valid_loss, accuracy = test(val_dl, model, loss_fn)\n",
        "    train_loss_list.extend(train_loss_history_list)\n",
        "    valid_loss_list.append(valid_loss)\n",
        "    valid_acc_list.append(accuracy)\n",
        "print(\"Done!\")"
      ],
      "metadata": {
        "id": "kRa6l3lMATi9"
      },
      "execution_count": null,
      "outputs": []
    },
    {
      "cell_type": "markdown",
      "source": [
        "### 평가 (Evaluation)"
      ],
      "metadata": {
        "id": "9jZbJhxRAafj"
      }
    },
    {
      "cell_type": "markdown",
      "source": [
        "우리의 모델은 약 70%의 정확도에 도달하는데, 그래프를 보면 오랜 시간 훈련을 해도 모델이 80% 이상의 정확도를 달성할 가능성은 없어 보입니다. 이는 이미지와 라벨 간의 관계를 보다 정확하게 포착하기 위해 보다 강력한 모델을 사용해야 할 수도 있음을 시사합니다. 모델에 컨볼루션 레이어를 추가하거나 각 컨볼루션 레이어의 채널 수를 늘리거나 regularization 기술을 사용하는 등 다양한 방식을 수행해볼 수 있습니다."
      ],
      "metadata": {
        "id": "wiT49ooSAc1u"
      }
    },
    {
      "cell_type": "code",
      "source": [
        "def plot_loss(history):\n",
        "    plt.plot(history, '-x')\n",
        "    plt.xlabel('iteration')\n",
        "    plt.ylabel('loss')\n",
        "    plt.title('[Train]Loss vs. No. of iteration');\n",
        "\n",
        "plot_loss(train_loss_list)"
      ],
      "metadata": {
        "id": "gdkrN1PGAbwS"
      },
      "execution_count": null,
      "outputs": []
    },
    {
      "cell_type": "code",
      "source": [
        "plot_loss(valid_loss_list)"
      ],
      "metadata": {
        "id": "fEVPvZadAlLP"
      },
      "execution_count": null,
      "outputs": []
    },
    {
      "cell_type": "code",
      "source": [
        "new_train_loss_list = list()\n",
        "\n",
        "for i,x in enumerate(train_loss_list):\n",
        "    if i % 4 == 0:\n",
        "        new_train_loss_list.append(x)\n",
        "\n",
        "def plot_losses(train_losses, val_losses):\n",
        "    plt.plot(train_losses, '-bx')\n",
        "    plt.plot(val_losses, '-rx')\n",
        "    plt.xlabel('epoch')\n",
        "    plt.ylabel('loss')\n",
        "    plt.legend(['Training', 'Validation'])\n",
        "    plt.title('Loss vs. No. of epochs');\n",
        "\n",
        "plot_losses(new_train_loss_list, valid_loss_list)"
      ],
      "metadata": {
        "id": "Nw8Li65jAmD4"
      },
      "execution_count": null,
      "outputs": []
    },
    {
      "cell_type": "markdown",
      "source": [
        "처음에는 훈련 및 검증 손실이 모두 시간이 지남에 따라 감소하는 것으로 보입니다. 그러나 모델을 충분히 오래 훈련하면 훈련 손실이 계속 감소하는 반면 유효성 검사 손실은 감소를 멈추고 특정 시점 이후에는 증가하기 시작합니다."
      ],
      "metadata": {
        "id": "g7oNtL8nAoTB"
      }
    },
    {
      "cell_type": "markdown",
      "source": [
        "![image.png](data:image/png;base64,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)"
      ],
      "metadata": {
        "id": "CXVaHLgKAp66"
      }
    },
    {
      "cell_type": "markdown",
      "source": [
        "이러한 현상을 과적합이라고 하며, 많은 기계 학습 모델이 실제 데이터에 대해 좋지 않은 결과를 제공하는 대표적인 이유입니다. 모델이 손실을 최소화하기 위해 학습 데이터에 고유한 패턴을 학습하기 시작하고 때로는 특정 학습 예제를 기억하기 때문에 발생합니다. 이 때문에 모델은 이전에 본 적이 없는 데이터로 잘 일반화되지 않습니다.\n",
        "\n",
        "다음은 과적합을 방지하기 위한 몇 가지 일반적인 전략입니다.\n",
        "\n",
        "* 더 많은 Training 데이터를 수집 및 생성하거나 데이터에 노이즈 추가\n",
        "* Batch normalization 및 Dropout과 같은 Regularization 기술 사용\n",
        "* Evaluation loss가 증가하기 시작하면 모델 학습을 조기에 중지합니다."
      ],
      "metadata": {
        "id": "d7a-PboYAp0T"
      }
    },
    {
      "cell_type": "markdown",
      "source": [
        "### Testing"
      ],
      "metadata": {
        "id": "mSeM5jUcAwSg"
      }
    },
    {
      "cell_type": "markdown",
      "source": [
        "지금까지 모델의 전반적인 정확도를 추적했지만 일부 샘플 이미지에서 모델의 결과를 살펴보는 것도 좋은 방법입니다. 미리 정의된 10000개 이미지의 테스트 데이터 세트에서 일부 이미지로 모델을 테스트해 보겠습니다. ImageFolder 클래스를 사용하여 테스트 데이터 세트를 만드는 것으로 시작합니다."
      ],
      "metadata": {
        "id": "o9IKUczWAx37"
      }
    },
    {
      "cell_type": "code",
      "source": [
        "test_dataset = ImageFolder(data_dir+'/test', transform=ToTensor())"
      ],
      "metadata": {
        "id": "nC37SHvFAz3A"
      },
      "execution_count": null,
      "outputs": []
    },
    {
      "cell_type": "markdown",
      "source": [
        "그리고 함수를 정의하여 단일 이미지 텐서에서의 확인을 용이하게 해보도록 하겠습니다."
      ],
      "metadata": {
        "id": "jt9tl0MrA0tZ"
      }
    },
    {
      "cell_type": "code",
      "source": [
        "def predict_image(img, model):\n",
        "    # Convert to a batch of 1\n",
        "    xb = img.unsqueeze(0).to(device)\n",
        "    # Get predictions from model\n",
        "    yb = model(xb)\n",
        "    # Pick index with highest probability\n",
        "    _, preds  = torch.max(yb, dim=1)\n",
        "    # Retrieve the class label\n",
        "    return dataset.classes[preds[0].item()]"
      ],
      "metadata": {
        "id": "1ICqzo_2AojZ"
      },
      "execution_count": null,
      "outputs": []
    },
    {
      "cell_type": "code",
      "source": [
        "img, label = test_dataset[0]\n",
        "plt.imshow(img.permute(1, 2, 0))\n",
        "print('Label:', dataset.classes[label], ', Predicted:', predict_image(img, model))"
      ],
      "metadata": {
        "id": "2PHbU5gqA2ga"
      },
      "execution_count": null,
      "outputs": []
    },
    {
      "cell_type": "markdown",
      "source": [
        "### Convolutional Neural Network"
      ],
      "metadata": {
        "id": "gKP-MdNHA_dh"
      }
    },
    {
      "cell_type": "markdown",
      "source": [
        "Conv2d 레이어는 3채널 이미지를 16채널 feature map으로 변환하고 MaxPool2d 레이어는 높이와 너비를 줄입니다. feature map은 더 많은 레이어를 추가함에 따라 점점 작아지고 후에는 평면화(flatten)할 수 있는 작은 피처 맵이 남게 됩니다. 그다음 fully-connected 레이어를 추가하여 각 이미지에 대해 크기 10의 벡터를 얻을 수 있습니다."
      ],
      "metadata": {
        "id": "C-5Dm3nGBJsA"
      }
    },
    {
      "cell_type": "markdown",
      "source": [
        "![image.png](data:image/png;base64,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)"
      ],
      "metadata": {
        "id": "aRTlvHuXBPXJ"
      }
    },
    {
      "cell_type": "code",
      "source": [
        "class Cifar10CnnModel(nn.Module):\n",
        "    def __init__(self):\n",
        "        super().__init__()\n",
        "        self.network = nn.Sequential(\n",
        "            nn.Conv2d(3, 32, kernel_size=3, padding=1),\n",
        "            nn.ReLU(),\n",
        "            nn.Conv2d(32, 64, kernel_size=3, stride=1, padding=1),\n",
        "            nn.ReLU(),\n",
        "            nn.MaxPool2d(2, 2), # output: 64 x 16 x 16\n",
        "\n",
        "            nn.Conv2d(64, 128, kernel_size=3, stride=1, padding=1),\n",
        "            nn.ReLU(),\n",
        "            nn.Conv2d(128, 128, kernel_size=3, stride=1, padding=1),\n",
        "            nn.ReLU(),\n",
        "            nn.MaxPool2d(2, 2), # output: 128 x 8 x 8\n",
        "\n",
        "            nn.Conv2d(128, 256, kernel_size=3, stride=1, padding=1),\n",
        "            nn.ReLU(),\n",
        "            nn.Conv2d(256, 256, kernel_size=3, stride=1, padding=1),\n",
        "            nn.ReLU(),\n",
        "            nn.MaxPool2d(2, 2), # output: 256 x 4 x 4\n",
        "\n",
        "            nn.Flatten(), \n",
        "            nn.Linear(256*4*4, 1024),\n",
        "            nn.ReLU(),\n",
        "            nn.Linear(1024, 512),\n",
        "            nn.ReLU(),\n",
        "            nn.Linear(512, 10))\n",
        "        \n",
        "    def forward(self, xb):\n",
        "        return self.network(xb)"
      ],
      "metadata": {
        "id": "9Nw2aH1bBHM-"
      },
      "execution_count": null,
      "outputs": []
    },
    {
      "cell_type": "code",
      "source": [
        "model = Cifar10CnnModel()\n",
        "print(model)"
      ],
      "metadata": {
        "id": "EEDAetFeBQh7"
      },
      "execution_count": null,
      "outputs": []
    },
    {
      "cell_type": "markdown",
      "source": [
        "이제 새로이 짠 CNN모델로 학습을 진행해보도록 하겠습니다."
      ],
      "metadata": {
        "id": "SCY3bJC6BUau"
      }
    },
    {
      "cell_type": "code",
      "source": [
        "epochs = 10\n",
        "train_loss_list, valid_loss_list, valid_acc_list = list(), list(), list()\n",
        "\n",
        "for t in range(epochs):\n",
        "    print(f\"Epoch {t+1}\\n-------------------------------\")\n",
        "    train_loss_history_list = train(train_dl, model, loss_fn, optimizer)\n",
        "    valid_loss, accuracy = test(val_dl, model, loss_fn)\n",
        "    train_loss_list.extend(train_loss_history_list)\n",
        "    valid_loss_list.append(valid_loss)\n",
        "    valid_acc_list.append(accuracy)\n",
        "print(\"Done!\")"
      ],
      "metadata": {
        "id": "jMqTUi3mBUGw"
      },
      "execution_count": null,
      "outputs": []
    },
    {
      "cell_type": "code",
      "source": [
        "plot_loss(train_loss_list)"
      ],
      "metadata": {
        "id": "D1Ccx5yiBZoX"
      },
      "execution_count": null,
      "outputs": []
    },
    {
      "cell_type": "code",
      "source": [
        "plot_loss(valid_loss_list)"
      ],
      "metadata": {
        "id": "AfdTUPuKBbG8"
      },
      "execution_count": null,
      "outputs": []
    },
    {
      "cell_type": "code",
      "source": [
        "#@title\n",
        "img, label = test_dataset[0]\n",
        "plt.imshow(img.permute(1, 2, 0))\n",
        "print('Label:', dataset.classes[label], ', Predicted:', predict_image(img, model))"
      ],
      "metadata": {
        "cellView": "form",
        "id": "U_nSGmPSBeSB"
      },
      "execution_count": null,
      "outputs": []
    },
    {
      "cell_type": "markdown",
      "source": [
        "### Testing (Custom Data)"
      ],
      "metadata": {
        "id": "jguzwQguBLm-"
      }
    },
    {
      "cell_type": "markdown",
      "source": [
        "마지막으로 인터넷에 있는 다른 이미지를 통해서 CIFAR10 데이터뿐만 아니라 다른 데이터에서도 잘 동작하는지 살펴보겠습니다."
      ],
      "metadata": {
        "id": "ht0AtET2BKig"
      }
    },
    {
      "cell_type": "code",
      "source": [
        "from PIL import Image\n",
        "\n",
        "# 다운받을 이미지 url\n",
        "url = \"https://dzqerse1lankl.cloudfront.net/carsdata/cars/cm_cardb/file/3bebfa8e-8a58-48be-9127-61751389b007.jpg\"\n",
        "\n",
        "# curl 요청\n",
        "os.system(\"curl \" + url + \" > car.jpg\")\n",
        "\n",
        "# 저장 된 이미지 확인\n",
        "img = Image.open(\"car.jpg\").convert('RGB')\n",
        "img"
      ],
      "metadata": {
        "id": "a5RiESFIA4jr"
      },
      "execution_count": null,
      "outputs": []
    },
    {
      "cell_type": "code",
      "source": [
        "import torchvision.transforms as transforms\n",
        "\n",
        "# set up transformation to resize the image\n",
        "resize = transforms.Resize([32, 32])\n",
        "img = resize(img)\n",
        "to_tensor = transforms.ToTensor()\n",
        "tensor = to_tensor(img)\n",
        "\n",
        "print(tensor.size())\n",
        "\n",
        "# add another dimension at the front to get NCHW shape\n",
        "img_tensor = tensor.unsqueeze(0)\n",
        "print(tensor.size())"
      ],
      "metadata": {
        "id": "DnaLqYF8A6VZ"
      },
      "execution_count": null,
      "outputs": []
    },
    {
      "cell_type": "code",
      "source": [
        "import torchvision.transforms as transforms\n",
        "\n",
        "# set up transformation to resize the image\n",
        "resize = transforms.Resize([32, 32])\n",
        "img = resize(img)\n",
        "to_tensor = transforms.ToTensor()\n",
        "tensor = to_tensor(img)\n",
        "\n",
        "print(tensor.size())\n",
        "\n",
        "# add another dimension at the front to get NCHW shape\n",
        "img_tensor = tensor.unsqueeze(0)\n",
        "print(tensor.size())"
      ],
      "metadata": {
        "id": "eAVO5MjsA7Bi"
      },
      "execution_count": null,
      "outputs": []
    },
    {
      "cell_type": "code",
      "source": [
        "plt.imshow(tensor.permute(1, 2, 0))\n",
        "out = model(img_tensor.to(device))\n",
        "_, preds  = torch.max(out, dim=1)\n",
        "print(f'Predicted: {dataset.classes[preds[0].item()]}')"
      ],
      "metadata": {
        "id": "cqaL1fz6A7yB"
      },
      "execution_count": null,
      "outputs": []
    }
  ]
}