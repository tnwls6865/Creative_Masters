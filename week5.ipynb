{
  "nbformat": 4,
  "nbformat_minor": 0,
  "metadata": {
    "colab": {
      "provenance": [],
      "authorship_tag": "ABX9TyMJ6aUECqhu3QhpCgxLwFmE",
      "include_colab_link": true
    },
    "kernelspec": {
      "name": "python3",
      "display_name": "Python 3"
    },
    "language_info": {
      "name": "python"
    }
  },
  "cells": [
    {
      "cell_type": "markdown",
      "metadata": {
        "id": "view-in-github",
        "colab_type": "text"
      },
      "source": [
        "<a href=\"https://colab.research.google.com/github/tnwls6865/Creative_Masters/blob/main/week5.ipynb\" target=\"_parent\"><img src=\"https://colab.research.google.com/assets/colab-badge.svg\" alt=\"Open In Colab\"/></a>"
      ]
    },
    {
      "cell_type": "markdown",
      "source": [
        "# Creative Masters"
      ],
      "metadata": {
        "id": "uI8D8X0Q9_Wr"
      }
    },
    {
      "cell_type": "markdown",
      "source": [
        "\n",
        "### Chat GPT\n",
        "https://openai.com/blog/chatgpt"
      ],
      "metadata": {
        "id": "rGXMhOp3-b0p"
      }
    },
    {
      "cell_type": "markdown",
      "source": [
        "#### 간단한 계산기"
      ],
      "metadata": {
        "id": "g0A9J65c-oeP"
      }
    },
    {
      "cell_type": "code",
      "source": [
        "# 함수 정의\n",
        "def add(x, y):\n",
        "    return x + y\n",
        "\n",
        "def subtract(x, y):\n",
        "    return x - y\n",
        "\n",
        "def multiply(x, y):\n",
        "    return x * y\n",
        "\n",
        "def divide(x, y):\n",
        "    return x / y\n",
        "\n",
        "# 사용자 입력 받기\n",
        "print(\"사칙연산 계산기입니다.\")\n",
        "print(\"사용 가능한 연산: +, -, *, /\")\n",
        "num1 = float(input(\"첫 번째 숫자를 입력하세요: \"))\n",
        "num2 = float(input(\"두 번째 숫자를 입력하세요: \"))\n",
        "operator = input(\"연산자를 입력하세요: \")\n",
        "\n",
        "# 계산 수행\n",
        "if operator == \"+\":\n",
        "    print(num1, \"+\", num2, \"=\", add(num1, num2))\n",
        "\n",
        "elif operator == \"-\":\n",
        "    print(num1, \"-\", num2, \"=\", subtract(num1, num2))\n",
        "\n",
        "elif operator == \"*\":\n",
        "    print(num1, \"*\", num2, \"=\", multiply(num1, num2))\n",
        "\n",
        "elif operator == \"/\":\n",
        "    print(num1, \"/\", num2, \"=\", divide(num1, num2))\n",
        "\n",
        "else:\n",
        "    print(\"올바른 연산자를 입력하세요.\")\n"
      ],
      "metadata": {
        "colab": {
          "base_uri": "https://localhost:8080/"
        },
        "id": "dXKrBj9P-ANC",
        "outputId": "cd0aa181-3af1-4952-fe6b-20f6917b205e"
      },
      "execution_count": null,
      "outputs": [
        {
          "output_type": "stream",
          "name": "stdout",
          "text": [
            "사칙연산 계산기입니다.\n",
            "사용 가능한 연산: +, -, *, /\n",
            "첫 번째 숫자를 입력하세요: 5\n",
            "두 번째 숫자를 입력하세요: 10\n",
            "연산자를 입력하세요: /\n",
            "5.0 / 10.0 = 0.5\n"
          ]
        }
      ]
    },
    {
      "cell_type": "markdown",
      "source": [
        "##### python 에서 numpy array 연산 예시 보여줘 "
      ],
      "metadata": {
        "id": "48sQthOHCb-Y"
      }
    },
    {
      "cell_type": "code",
      "source": [
        "import numpy as np\n",
        "\n",
        "# 1차원 배열 생성하기\n",
        "a = np.array([1, 2, 3])\n",
        "\n",
        "# 2차원 배열 생성하기\n",
        "b = np.array([[1, 2, 3], [4, 5, 6]])\n",
        "\n",
        "# 3차원 배열 생성하기\n",
        "c = np.array([[[1, 2], [3, 4]], [[5, 6], [7, 8]]])"
      ],
      "metadata": {
        "id": "nTvgfgiw-mwl"
      },
      "execution_count": 2,
      "outputs": []
    },
    {
      "cell_type": "code",
      "source": [
        "import numpy as np\n",
        "\n",
        "a = np.array([1, 2, 3])\n",
        "b = np.array([4, 5, 6])\n",
        "\n",
        "# 배열 더하기\n",
        "c = a + b  # [5, 7, 9]\n",
        "\n",
        "# 배열 빼기\n",
        "d = a - b  # [-3, -3, -3]\n",
        "\n",
        "# 배열 곱하기 (요소별 곱셈)\n",
        "e = a * b  # [4, 10, 18]\n",
        "\n",
        "# 배열 나누기 (요소별 나눗셈)\n",
        "f = b / a  # [4.0, 2.5, 2.0]\n",
        "\n",
        "# 배열 제곱\n",
        "g = a ** 2  # [1, 4, 9]\n",
        "\n",
        "# 배열 비교 (요소별 비교)\n",
        "h = a > b  # [False, False, False]"
      ],
      "metadata": {
        "id": "23hMosGnCmY1"
      },
      "execution_count": 3,
      "outputs": []
    },
    {
      "cell_type": "code",
      "source": [
        "print(a)\n",
        "print(b)\n",
        "print(c)\n",
        "print(d)\n",
        "print(e)\n",
        "print(f)\n",
        "print(g)\n",
        "print(h)"
      ],
      "metadata": {
        "colab": {
          "base_uri": "https://localhost:8080/"
        },
        "id": "js7b3--bCnpk",
        "outputId": "9d63cc5e-1c86-4533-a816-492bc333f0ea"
      },
      "execution_count": 4,
      "outputs": [
        {
          "output_type": "stream",
          "name": "stdout",
          "text": [
            "[1 2 3]\n",
            "[4 5 6]\n",
            "[5 7 9]\n",
            "[-3 -3 -3]\n",
            "[ 4 10 18]\n",
            "[4.  2.5 2. ]\n",
            "[1 4 9]\n",
            "[False False False]\n"
          ]
        }
      ]
    },
    {
      "cell_type": "markdown",
      "source": [
        "##### python으로 knn코드 짜줘"
      ],
      "metadata": {
        "id": "FXDA80n7Duwi"
      }
    },
    {
      "cell_type": "code",
      "source": [
        "import numpy as np\n",
        "\n",
        "# 거리 계산 함수\n",
        "def euclidean_distance(x1, x2):\n",
        "    return np.sqrt(np.sum((x1 - x2)**2))\n",
        "\n",
        "class KNN:\n",
        "    def __init__(self, k=3):\n",
        "        self.k = k\n",
        "\n",
        "    def fit(self, X, y):\n",
        "        self.X_train = X\n",
        "        self.y_train = y\n",
        "\n",
        "    def predict(self, X):\n",
        "        y_pred = [self._predict(x) for x in X]\n",
        "        return np.array(y_pred)\n",
        "\n",
        "    def _predict(self, x):\n",
        "        # 거리 계산\n",
        "        distances = [euclidean_distance(x, x_train) for x_train in self.X_train]\n",
        "\n",
        "        # k개의 최근접 이웃 구하기\n",
        "        k_indices = np.argsort(distances)[:self.k]\n",
        "        k_nearest_labels = [self.y_train[i] for i in k_indices]\n",
        "\n",
        "        # 가장 투표를 많이 받은 레이블 반환\n",
        "        most_common = Counter(k_nearest_labels).most_common(1)\n",
        "        return most_common[0][0]\n"
      ],
      "metadata": {
        "id": "P3TRUDY3CvEn"
      },
      "execution_count": 6,
      "outputs": []
    },
    {
      "cell_type": "markdown",
      "source": [
        "##### pytorch cifar10 dataset으로 knn학습하는 코드 짜줘"
      ],
      "metadata": {
        "id": "2V_Y3b5dD4uP"
      }
    },
    {
      "cell_type": "code",
      "source": [
        "import torch\n",
        "import torchvision\n",
        "import numpy as np\n",
        "from collections import Counter\n",
        "\n",
        "# CIFAR10 데이터셋 다운로드 및 전처리\n",
        "transform = torchvision.transforms.Compose([\n",
        "    torchvision.transforms.ToTensor(),\n",
        "    torchvision.transforms.Normalize((0.5, 0.5, 0.5), (0.5, 0.5, 0.5))\n",
        "])\n",
        "trainset = torchvision.datasets.CIFAR10(root='./data', train=True, download=True, transform=transform)\n",
        "testset = torchvision.datasets.CIFAR10(root='./data', train=False, download=True, transform=transform)\n",
        "\n",
        "# 학습 데이터와 테스트 데이터로 나누기\n",
        "trainloader = torch.utils.data.DataLoader(trainset, batch_size=50000, shuffle=False)\n",
        "testloader = torch.utils.data.DataLoader(testset, batch_size=10000, shuffle=False)\n",
        "\n",
        "# 데이터 로드 및 전처리 함수 정의\n",
        "def preprocess_data(dataloader):\n",
        "    inputs = []\n",
        "    labels = []\n",
        "    for batch in dataloader:\n",
        "        input_batch, label_batch = batch\n",
        "        input_batch = input_batch.view(input_batch.shape[0], -1)\n",
        "        inputs.append(input_batch.numpy())\n",
        "        labels.append(label_batch.numpy())\n",
        "    inputs = np.concatenate(inputs, axis=0)\n",
        "    labels = np.concatenate(labels, axis=0)\n",
        "    return inputs, labels\n",
        "\n",
        "# 데이터 전처리\n",
        "X_train, y_train = preprocess_data(trainloader)\n",
        "X_test, y_test = preprocess_data(testloader)\n",
        "\n",
        "# 거리 계산 함수\n",
        "def euclidean_distance(x1, x2):\n",
        "    return np.sqrt(np.sum((x1 - x2)**2))\n",
        "\n",
        "class KNN:\n",
        "    def __init__(self, k=3):\n",
        "        self.k = k\n",
        "\n",
        "    def fit(self, X, y):\n",
        "        self.X_train = X\n",
        "        self.y_train = y\n",
        "\n",
        "    def predict(self, X):\n",
        "        y_pred = [self._predict(x) for x in X]\n",
        "        return np.array(y_pred)\n",
        "\n",
        "    def _predict(self, x):\n",
        "        # 거리 계산\n",
        "        distances = [euclidean_distance(x, x_train) for x_train in self.X_train]\n",
        "\n",
        "        # k개의 최근접 이웃 구하기\n",
        "        k_indices = np.argsort(distances)[:self.k]\n",
        "        k_nearest_labels = [self.y_train[i] for i in k_indices]\n",
        "\n",
        "        # 가장 투표를 많이 받은 레이블 반환\n",
        "        most_common = Counter(k_nearest_labels).most_common(1)\n",
        "        return most_common[0][0]\n",
        "\n",
        "# KNN 모델 생성 및 학습\n",
        "knn = KNN(k=5)\n",
        "knn.fit(X_train, y_train)\n",
        "\n",
        "# 테스트 데이터로 예측하기\n",
        "y_pred = knn.predict(X_test)\n",
        "\n",
        "# 정확도 계산하기\n",
        "accuracy = np.mean(y_pred == y_test)\n",
        "print(\"Accuracy:\", accuracy)"
      ],
      "metadata": {
        "colab": {
          "base_uri": "https://localhost:8080/"
        },
        "id": "_dDo5CPEDQVj",
        "outputId": "7be61e07-edd8-4bdc-ea51-1ab176d3cb48"
      },
      "execution_count": null,
      "outputs": [
        {
          "output_type": "stream",
          "name": "stdout",
          "text": [
            "Downloading https://www.cs.toronto.edu/~kriz/cifar-10-python.tar.gz to ./data/cifar-10-python.tar.gz\n"
          ]
        },
        {
          "output_type": "stream",
          "name": "stderr",
          "text": [
            "100%|██████████| 170498071/170498071 [00:04<00:00, 37967092.45it/s]\n"
          ]
        },
        {
          "output_type": "stream",
          "name": "stdout",
          "text": [
            "Extracting ./data/cifar-10-python.tar.gz to ./data\n",
            "Files already downloaded and verified\n"
          ]
        }
      ]
    },
    {
      "cell_type": "code",
      "source": [],
      "metadata": {
        "id": "H8BMvMuvD9dA"
      },
      "execution_count": null,
      "outputs": []
    }
  ]
}